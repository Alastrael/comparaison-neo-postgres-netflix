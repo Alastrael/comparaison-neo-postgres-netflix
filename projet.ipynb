{
 "cells": [
  {
   "cell_type": "markdown",
   "id": "3df93544-dc9e-4808-a1b0-8fb99b3c6e90",
   "metadata": {
    "toc-hr-collapsed": true
   },
   "source": [
    "# Création de la base de donnée sous Neo4j"
   ]
  },
  {
   "cell_type": "markdown",
   "id": "3e6dd236-58fe-419e-b995-af725c21505a",
   "metadata": {
    "tags": []
   },
   "source": [
    "## Importation des librairies"
   ]
  },
  {
   "cell_type": "code",
   "execution_count": 5,
   "id": "53db4144-a416-406d-9d69-425bfff0ba12",
   "metadata": {
    "tags": []
   },
   "outputs": [
    {
     "name": "stdout",
     "output_type": "stream",
     "text": [
      "Collecting py2neo\n",
      "  Using cached py2neo-2021.2.3-py2.py3-none-any.whl (177 kB)\n",
      "Requirement already satisfied: pygments>=2.0.0 in /Users/michael/opt/anaconda3/lib/python3.9/site-packages (from py2neo) (2.10.0)\n",
      "Requirement already satisfied: certifi in /Users/michael/opt/anaconda3/lib/python3.9/site-packages (from py2neo) (2021.10.8)\n",
      "Collecting interchange~=2021.0.4\n",
      "  Using cached interchange-2021.0.4-py2.py3-none-any.whl (28 kB)\n",
      "Collecting monotonic\n",
      "  Using cached monotonic-1.6-py2.py3-none-any.whl (8.2 kB)\n",
      "Collecting pansi>=2020.7.3\n",
      "  Using cached pansi-2020.7.3-py2.py3-none-any.whl (10 kB)\n",
      "Requirement already satisfied: six>=1.15.0 in /Users/michael/opt/anaconda3/lib/python3.9/site-packages (from py2neo) (1.16.0)\n",
      "Requirement already satisfied: urllib3 in /Users/michael/opt/anaconda3/lib/python3.9/site-packages (from py2neo) (1.26.7)\n",
      "Requirement already satisfied: packaging in /Users/michael/opt/anaconda3/lib/python3.9/site-packages (from py2neo) (21.0)\n",
      "Requirement already satisfied: pytz in /Users/michael/opt/anaconda3/lib/python3.9/site-packages (from interchange~=2021.0.4->py2neo) (2021.3)\n",
      "Requirement already satisfied: pyparsing>=2.0.2 in /Users/michael/opt/anaconda3/lib/python3.9/site-packages (from packaging->py2neo) (3.0.4)\n",
      "Installing collected packages: pansi, monotonic, interchange, py2neo\n",
      "Successfully installed interchange-2021.0.4 monotonic-1.6 pansi-2020.7.3 py2neo-2021.2.3\n",
      "Note: you may need to restart the kernel to use updated packages.\n"
     ]
    }
   ],
   "source": [
    "pip install py2neo"
   ]
  },
  {
   "cell_type": "code",
   "execution_count": 369,
   "id": "b802d6eb-7da6-4027-80cc-f1a7157bd1c0",
   "metadata": {},
   "outputs": [],
   "source": [
    "import numpy as np \n",
    "import pandas as pd\n",
    "from py2neo import Graph\n",
    "import matplotlib.pyplot as plt\n",
    "plt.style.use('seaborn-whitegrid')\n",
    "import time\n",
    "import math"
   ]
  },
  {
   "cell_type": "markdown",
   "id": "907678f4-2889-4ecd-8128-86b067350e1a",
   "metadata": {
    "tags": []
   },
   "source": [
    "## Chargement des données"
   ]
  },
  {
   "cell_type": "code",
   "execution_count": 370,
   "id": "1fcb3675-5f15-41b2-8bfe-be6ffa22a631",
   "metadata": {},
   "outputs": [],
   "source": [
    "df = pd.read_csv('netflix_titles.csv')\n",
    "df[\"date_added\"] = pd.to_datetime(df['date_added'])\n",
    "df['year'] = df['date_added'].dt.year\n",
    "df['month'] = df['date_added'].dt.month\n",
    "df['day'] = df['date_added'].dt.day"
   ]
  },
  {
   "cell_type": "markdown",
   "id": "24bda67b-b683-49da-9e66-65decdbeaa1d",
   "metadata": {
    "tags": []
   },
   "source": [
    "## Se connecter à Neo4J \n",
    "pour lancer la sandbox il faut aller sur ce site : https://sandbox.neo4j.com/\n",
    "ensuite il faut chercher dans une database un onglet connection details, mais on peut\n",
    "également le réaliser en local en cherchant les mêmes propriétés dans son neo desktop"
   ]
  },
  {
   "cell_type": "code",
   "execution_count": 371,
   "id": "667f733c-8278-4488-81f5-109d74c92df3",
   "metadata": {},
   "outputs": [],
   "source": [
    "ip=\"localhost\" #ip address\n",
    "port=\"7687\" #bolt port\n",
    "pwd=\"azert\" #password\n",
    "graph = Graph(\"bolt://\"+ip+\":\"+port, auth=(\"neo4j\", pwd))"
   ]
  },
  {
   "cell_type": "code",
   "execution_count": 372,
   "id": "268d9968-5e86-4bf5-ac3e-f963c2aa94ce",
   "metadata": {
    "tags": []
   },
   "outputs": [],
   "source": [
    "LOAD_DATA = False\n",
    "\n",
    "def run_request(request,LOAD_DATA=False):\n",
    "    print(\"run\")\n",
    "    if (LOAD_DATA):\n",
    "        start_time = time.time()\n",
    "        print(graph.run(request)) \n",
    "        exec_time = time.time() - start_time\n",
    "        print(f'-- {exec_time} seconds --')"
   ]
  },
  {
   "cell_type": "markdown",
   "id": "f2d2b964-5a4f-4c7a-962b-f11135ad7da2",
   "metadata": {
    "tags": []
   },
   "source": [
    "## Suppression des nodes et relations"
   ]
  },
  {
   "cell_type": "code",
   "execution_count": 373,
   "id": "d63f179c-c50c-4bf6-aafc-2b4ade095aaf",
   "metadata": {
    "tags": []
   },
   "outputs": [
    {
     "name": "stdout",
     "output_type": "stream",
     "text": [
      "run\n"
     ]
    }
   ],
   "source": [
    "request_delete =\"\"\"\n",
    "MATCH (n) DETACH DELETE n;\n",
    "\"\"\"\n",
    "run_request(request_delete,LOAD_DATA)"
   ]
  },
  {
   "cell_type": "markdown",
   "id": "aec85523-df35-4ace-9bc5-30ef5c94dadf",
   "metadata": {
    "tags": []
   },
   "source": [
    "## Creation des nodes"
   ]
  },
  {
   "cell_type": "code",
   "execution_count": 374,
   "id": "9d994f0a-cdba-4eec-91be-ffa2f8b2ccbd",
   "metadata": {
    "tags": []
   },
   "outputs": [],
   "source": [
    "request =\"\"\"\n",
    "CREATE (m:Movie {id: $show_id})\n",
    "SET\n",
    "m.title = $title,\n",
    "m.director = $director,\n",
    "m.country = $country,\n",
    "m.date_str = $date_added, \n",
    "m.release_year = $release_year,\n",
    "m.rating = $rating,\n",
    "m.duration = $duration ,\n",
    "m.listed_in = $listed_in ,\n",
    "m.description = $description,\n",
    "m.cast=$cast,\n",
    "m.year = $year,\n",
    "m.month = $month,\n",
    "m.day = $day,\n",
    "m.type = $type_movie\n",
    "\"\"\"\n",
    "start_time = time.time()\n",
    "count=df.shape[0]\n",
    "if (LOAD_DATA):\n",
    "    for index, row in df.iterrows():\n",
    "        graph.run(request,\n",
    "                  show_id=row['show_id'],\n",
    "                  title=None if pd.isnull(row['title']) else row['title'],\n",
    "                  director=None if pd.isnull(row['director']) else row['director'],\n",
    "                  country=None if pd.isnull(row['country']) else row['country'],\n",
    "                  date_added= None if pd.isnull(row['date_added']) else row['date_added'].strftime('%Y-%m-%d'),\n",
    "                  release_year=None if pd.isnull(row['release_year']) else row['release_year'],\n",
    "                  rating=None if pd.isnull(row['rating']) else row['rating'],          \n",
    "                  duration=None if pd.isnull(row['duration']) else row['duration'],\n",
    "                  listed_in=None if pd.isnull(row['listed_in']) else row['listed_in'],\n",
    "                  description=None if pd.isnull(row['description']) else row['description'],\n",
    "                  cast= None if pd.isnull(row['cast']) else row['cast'],\n",
    "                  year=None if pd.isnull(row['year']) else row['year'],\n",
    "                  month=None if pd.isnull(row['month']) else row['month'],\n",
    "                  day=None if pd.isnull(row['day']) else row['day'],\n",
    "                  type_movie=None if pd.isnull(row['type']) else row['type']\n",
    "                  )"
   ]
  },
  {
   "cell_type": "code",
   "execution_count": 375,
   "id": "a970607b-fe57-4dbf-a23d-22af32424e88",
   "metadata": {
    "tags": []
   },
   "outputs": [
    {
     "name": "stdout",
     "output_type": "stream",
     "text": [
      "run\n"
     ]
    }
   ],
   "source": [
    "# CREATE  PERSONS\n",
    "request =\"\"\"\n",
    "MATCH (m:Movie)\n",
    "WHERE m.cast IS NOT NULL\n",
    "WITH m\n",
    "UNWIND split(m.cast, ', ') AS actor\n",
    "MERGE (p:Person {name: trim(actor)})\n",
    "MERGE (p)-[r:ACTED_IN]->(m);\n",
    "\"\"\"    \n",
    "run_request(request,LOAD_DATA)"
   ]
  },
  {
   "cell_type": "code",
   "execution_count": 376,
   "id": "552f51f8-2bdd-4623-9d16-aa6833097798",
   "metadata": {
    "tags": []
   },
   "outputs": [
    {
     "name": "stdout",
     "output_type": "stream",
     "text": [
      "run\n"
     ]
    }
   ],
   "source": [
    "# CREATE CATEGORIES    \n",
    "request =\"\"\"    \n",
    "MATCH (m:Movie)\n",
    "WHERE m.listed_in IS NOT NULL\n",
    "WITH m\n",
    "UNWIND split(m.listed_in, ',') AS category\n",
    "MERGE (c:Category {name: trim(category)})\n",
    "MERGE (m)-[r:IN_CATEGORY]->(c);\n",
    "\"\"\"    \n",
    "run_request(request,LOAD_DATA)"
   ]
  },
  {
   "cell_type": "code",
   "execution_count": 377,
   "id": "f70a9476-21a9-4237-8401-2b478227c6bc",
   "metadata": {
    "tags": []
   },
   "outputs": [
    {
     "name": "stdout",
     "output_type": "stream",
     "text": [
      "run\n"
     ]
    }
   ],
   "source": [
    "# CREATE TYPE\n",
    "request =\"\"\" \n",
    "MATCH (m:Movie)\n",
    "WHERE m.type IS NOT NULL\n",
    "WITH m\n",
    "MERGE (t:Type {type: m.type})\n",
    "MERGE (m)-[r:TYPED_AS]->(t);\n",
    "\"\"\"\n",
    "run_request(request,LOAD_DATA) "
   ]
  },
  {
   "cell_type": "code",
   "execution_count": 378,
   "id": "77200733-d4ab-44f2-ac07-b3a3827f72cc",
   "metadata": {
    "tags": []
   },
   "outputs": [
    {
     "name": "stdout",
     "output_type": "stream",
     "text": [
      "run\n"
     ]
    }
   ],
   "source": [
    "# CREATE DIRECTOR\n",
    "request =\"\"\" \n",
    "MATCH (m:Movie)\n",
    "WHERE m.director IS NOT NULL\n",
    "WITH m\n",
    "UNWIND split(m.director, ', ') AS director\n",
    "MERGE (d:Person {name: m.director})\n",
    "MERGE (d)-[r:DIRECTED]->(m);\n",
    "\"\"\"\n",
    "run_request(request,LOAD_DATA) "
   ]
  },
  {
   "cell_type": "code",
   "execution_count": 379,
   "id": "283331ff-175d-4f7a-9523-f964eae92b7b",
   "metadata": {
    "tags": []
   },
   "outputs": [
    {
     "name": "stdout",
     "output_type": "stream",
     "text": [
      "run\n"
     ]
    }
   ],
   "source": [
    "# CREATE COUNTRIES\n",
    "request =\"\"\" \n",
    "MATCH (m:Movie)\n",
    "WHERE m.country IS NOT NULL\n",
    "MERGE (c:Country {name: trim(m.country)})\n",
    "MERGE (m)-[:WHERE]->(c);\n",
    "\"\"\"\n",
    "run_request(request,LOAD_DATA) "
   ]
  },
  {
   "cell_type": "code",
   "execution_count": 380,
   "id": "5319d6b5-9445-4e80-8559-bc6870800801",
   "metadata": {
    "tags": []
   },
   "outputs": [
    {
     "name": "stdout",
     "output_type": "stream",
     "text": [
      "run\n"
     ]
    }
   ],
   "source": [
    "# DELETE UNUSED PROPERTY\n",
    "request=\"\"\"\n",
    "MATCH(m:Movie)\n",
    "SET m.country = null, m.category = null,m.type = null , m.director = null , m.cast =null\n",
    "\"\"\"\n",
    "run_request(request,LOAD_DATA) "
   ]
  },
  {
   "cell_type": "code",
   "execution_count": 381,
   "id": "8196b2c7-9d01-47de-a039-d427f566ae5b",
   "metadata": {
    "tags": []
   },
   "outputs": [],
   "source": [
    "# BUILD THE WORK_WITH RELATIONSHIP => beaucoup trop long\n",
    "#request = \"\"\"\n",
    "#MATCH (p:Person)-[rel:ACTED_IN]->(m:Movie)<-[:ACTED_IN]-(p2:Person)\n",
    "#MERGE (p)-[r:WORK_WITH]-(p2);\n",
    "#\"\"\"\n",
    "#run_request(request,LOAD_DATA)"
   ]
  },
  {
   "cell_type": "code",
   "execution_count": 382,
   "id": "31e00f66-cf2e-45b3-88d4-c08c8aad3357",
   "metadata": {
    "tags": []
   },
   "outputs": [
    {
     "name": "stdout",
     "output_type": "stream",
     "text": [
      "run\n"
     ]
    }
   ],
   "source": [
    "# Create Time Tree Index\n",
    "request=\"\"\"\n",
    "CREATE INDEX ON :Year(value);\n",
    "\"\"\"\n",
    "run_request(request,LOAD_DATA)"
   ]
  },
  {
   "cell_type": "code",
   "execution_count": 383,
   "id": "bae4576d-6bd4-448f-a0d2-a5fb06e42247",
   "metadata": {
    "tags": []
   },
   "outputs": [
    {
     "name": "stdout",
     "output_type": "stream",
     "text": [
      "run\n"
     ]
    }
   ],
   "source": [
    "# Create Years\n",
    "request=\"\"\"\n",
    "WITH range(2012, 2019) AS years, range(1,12) AS months\n",
    "FOREACH(year IN years |\n",
    "  CREATE (y:Year {value: year}));\n",
    "\"\"\"\n",
    "run_request(request,LOAD_DATA)"
   ]
  },
  {
   "cell_type": "code",
   "execution_count": 384,
   "id": "6311e0e6-b2e3-4129-8059-f35546c82bb7",
   "metadata": {
    "tags": []
   },
   "outputs": [
    {
     "name": "stdout",
     "output_type": "stream",
     "text": [
      "run\n"
     ]
    }
   ],
   "source": [
    "# Connect Years Sequentially\n",
    "request=\"\"\"\n",
    "MATCH (year:Year)\n",
    "WITH year\n",
    "ORDER BY year.value\n",
    "WITH collect(year) AS years\n",
    "FOREACH(i in RANGE(0, size(years)-2) |\n",
    "    FOREACH(year1 in [years[i]] |\n",
    "        FOREACH(year2 in [years[i+1]] |\n",
    "            MERGE (year1)-[:NEXT]->(year2))));\n",
    "\"\"\"\n",
    "run_request(request,LOAD_DATA)"
   ]
  },
  {
   "cell_type": "code",
   "execution_count": 385,
   "id": "afb4ac46-e226-44d7-a5ea-b42f038f1fd1",
   "metadata": {
    "tags": []
   },
   "outputs": [
    {
     "name": "stdout",
     "output_type": "stream",
     "text": [
      "run\n"
     ]
    }
   ],
   "source": [
    "request=\"\"\"\n",
    "MATCH (m:Movie)\n",
    "WITH m, m.year AS y\n",
    "MATCH (year:Year {value: y})\n",
    "MERGE (m)-[:CREATED_ON]->(year)\n",
    "RETURN m,year;\n",
    "\"\"\"\n",
    "run_request(request,LOAD_DATA)"
   ]
  },
  {
   "cell_type": "code",
   "execution_count": 386,
   "id": "f457c268-7cc4-4bdc-a3da-8402c6ebc792",
   "metadata": {},
   "outputs": [
    {
     "data": {
      "text/html": [
       "<div>\n",
       "<style scoped>\n",
       "    .dataframe tbody tr th:only-of-type {\n",
       "        vertical-align: middle;\n",
       "    }\n",
       "\n",
       "    .dataframe tbody tr th {\n",
       "        vertical-align: top;\n",
       "    }\n",
       "\n",
       "    .dataframe thead th {\n",
       "        text-align: right;\n",
       "    }\n",
       "</style>\n",
       "<table border=\"1\" class=\"dataframe\">\n",
       "  <thead>\n",
       "    <tr style=\"text-align: right;\">\n",
       "      <th></th>\n",
       "      <th>label</th>\n",
       "      <th>count</th>\n",
       "    </tr>\n",
       "  </thead>\n",
       "  <tbody>\n",
       "    <tr>\n",
       "      <th>0</th>\n",
       "      <td>Movie</td>\n",
       "      <td>6234</td>\n",
       "    </tr>\n",
       "    <tr>\n",
       "      <th>1</th>\n",
       "      <td>Person</td>\n",
       "      <td>30421</td>\n",
       "    </tr>\n",
       "    <tr>\n",
       "      <th>2</th>\n",
       "      <td>Category</td>\n",
       "      <td>42</td>\n",
       "    </tr>\n",
       "    <tr>\n",
       "      <th>3</th>\n",
       "      <td>Type</td>\n",
       "      <td>2</td>\n",
       "    </tr>\n",
       "    <tr>\n",
       "      <th>4</th>\n",
       "      <td>Country</td>\n",
       "      <td>554</td>\n",
       "    </tr>\n",
       "    <tr>\n",
       "      <th>5</th>\n",
       "      <td>Year</td>\n",
       "      <td>8</td>\n",
       "    </tr>\n",
       "  </tbody>\n",
       "</table>\n",
       "</div>"
      ],
      "text/plain": [
       "      label  count\n",
       "0     Movie   6234\n",
       "1    Person  30421\n",
       "2  Category     42\n",
       "3      Type      2\n",
       "4   Country    554\n",
       "5      Year      8"
      ]
     },
     "execution_count": 386,
     "metadata": {},
     "output_type": "execute_result"
    }
   ],
   "source": [
    "# Nodes Cardinalities\n",
    "result = {\"label\": [], \"count\": []}\n",
    "for label in graph.run(\"CALL db.labels()\").to_series():\n",
    "    query = f\"MATCH (:`{label}`) RETURN count(*) as count\"\n",
    "    count = graph.run(query).to_data_frame().iloc[0]['count']\n",
    "    result[\"label\"].append(label)\n",
    "    result[\"count\"].append(count)\n",
    "nodes_df = pd.DataFrame(data=result)\n",
    "nodes_df.sort_values(\"count\")\n",
    "\n",
    "nodes_df"
   ]
  },
  {
   "cell_type": "code",
   "execution_count": 387,
   "id": "cacefa0f-bf4e-4bee-aef0-627c7d6c0692",
   "metadata": {},
   "outputs": [
    {
     "data": {
      "image/png": "[encoded data removed]",
      "text/plain": [
       "<Figure size 720x576 with 1 Axes>"
      ]
     },
     "metadata": {},
     "output_type": "display_data"
    }
   ],
   "source": [
    "nodes_df.plot(kind='bar', x='label', y='count', legend=None, title=\"Node Cardinalities\",figsize=(10,8))\n",
    "plt.yscale(\"log\")\n",
    "plt.xticks(rotation=45)\n",
    "plt.tight_layout()\n",
    "plt.bar(nodes_df['label'],nodes_df['count'])\n",
    "plt.show()"
   ]
  },
  {
   "cell_type": "code",
   "execution_count": 388,
   "id": "623565ca-f4e8-4074-adee-935ca1a9b6fe",
   "metadata": {},
   "outputs": [
    {
     "data": {
      "image/png": "[encoded data removed]",
      "text/plain": [
       "<Figure size 720x576 with 1 Axes>"
      ]
     },
     "metadata": {},
     "output_type": "display_data"
    }
   ],
   "source": [
    "# Relations Ship Cardinalities\n",
    "result = {\"relType\": [], \"count\": []}\n",
    "for relationship_type in graph.run(\"CALL db.relationshipTypes()\").to_series():\n",
    "    query = f\"MATCH ()-[:`{relationship_type}`]->() RETURN count(*) as count\"\n",
    "    count = graph.run(query).to_data_frame().iloc[0]['count']\n",
    "    result[\"relType\"].append(relationship_type)\n",
    "    result[\"count\"].append(count)\n",
    "rels_df = pd.DataFrame(data=result)\n",
    "rels_df.sort_values(\"count\")\n",
    "\n",
    "rels_df.plot(kind='bar', x='relType', y='count', legend=None, title=\"Relationship Cardinalities\",figsize=(10,8))\n",
    "plt.xticks(rotation=45)\n",
    "plt.tight_layout()\n",
    "plt.show()"
   ]
  },
  {
   "cell_type": "code",
   "execution_count": 389,
   "id": "44fd8b4e-74bc-4a3a-8e10-52458ab0f615",
   "metadata": {},
   "outputs": [
    {
     "data": {
      "text/html": [
       "<div>\n",
       "<style scoped>\n",
       "    .dataframe tbody tr th:only-of-type {\n",
       "        vertical-align: middle;\n",
       "    }\n",
       "\n",
       "    .dataframe tbody tr th {\n",
       "        vertical-align: top;\n",
       "    }\n",
       "\n",
       "    .dataframe thead th {\n",
       "        text-align: right;\n",
       "    }\n",
       "</style>\n",
       "<table border=\"1\" class=\"dataframe\">\n",
       "  <thead>\n",
       "    <tr style=\"text-align: right;\">\n",
       "      <th></th>\n",
       "      <th>p.name</th>\n",
       "      <th>movies</th>\n",
       "      <th>total</th>\n",
       "    </tr>\n",
       "  </thead>\n",
       "  <tbody>\n",
       "    <tr>\n",
       "      <th>0</th>\n",
       "      <td>Anupam Kher</td>\n",
       "      <td>[Wake Up Sid, A Wednesday, Zokkomon, C Kkompan...</td>\n",
       "      <td>33</td>\n",
       "    </tr>\n",
       "    <tr>\n",
       "      <th>1</th>\n",
       "      <td>Shah Rukh Khan</td>\n",
       "      <td>[My Next Guest with David Letterman and Shah R...</td>\n",
       "      <td>30</td>\n",
       "    </tr>\n",
       "    <tr>\n",
       "      <th>2</th>\n",
       "      <td>Om Puri</td>\n",
       "      <td>[Delhi 6, Kismat Konnection, Kurbaan, Chaar Sa...</td>\n",
       "      <td>27</td>\n",
       "    </tr>\n",
       "    <tr>\n",
       "      <th>3</th>\n",
       "      <td>Naseeruddin Shah</td>\n",
       "      <td>[Hope Aur Hum, Main, Meri Patni Aur Woh, SunGa...</td>\n",
       "      <td>27</td>\n",
       "    </tr>\n",
       "    <tr>\n",
       "      <th>4</th>\n",
       "      <td>Yuki Kaji</td>\n",
       "      <td>[DRAGON PILOT: Hisone &amp; Masotan, Berserk: The ...</td>\n",
       "      <td>26</td>\n",
       "    </tr>\n",
       "  </tbody>\n",
       "</table>\n",
       "</div>"
      ],
      "text/plain": [
       "             p.name                                             movies  total\n",
       "0       Anupam Kher  [Wake Up Sid, A Wednesday, Zokkomon, C Kkompan...     33\n",
       "1    Shah Rukh Khan  [My Next Guest with David Letterman and Shah R...     30\n",
       "2           Om Puri  [Delhi 6, Kismat Konnection, Kurbaan, Chaar Sa...     27\n",
       "3  Naseeruddin Shah  [Hope Aur Hum, Main, Meri Patni Aur Woh, SunGa...     27\n",
       "4         Yuki Kaji  [DRAGON PILOT: Hisone & Masotan, Berserk: The ...     26"
      ]
     },
     "execution_count": 389,
     "metadata": {},
     "output_type": "execute_result"
    }
   ],
   "source": [
    "request_top_5_actor=\"\"\"\n",
    "MATCH (p:Person)-[rel:ACTED_IN]->(m:Movie)\n",
    "WITH p,collect(m.title) as movies,count(*) as total\n",
    "RETURN  p.name, movies,total\n",
    "ORDER BY total DESC\n",
    "LIMIT 5\n",
    "\"\"\"\n",
    "graph.run(request_top_5_actor).to_data_frame().head()"
   ]
  },
  {
   "cell_type": "code",
   "execution_count": 390,
   "id": "f37363b9-c40b-4dee-8203-0ecce55f3bbd",
   "metadata": {},
   "outputs": [
    {
     "data": {
      "text/html": [
       "<div>\n",
       "<style scoped>\n",
       "    .dataframe tbody tr th:only-of-type {\n",
       "        vertical-align: middle;\n",
       "    }\n",
       "\n",
       "    .dataframe tbody tr th {\n",
       "        vertical-align: top;\n",
       "    }\n",
       "\n",
       "    .dataframe thead th {\n",
       "        text-align: right;\n",
       "    }\n",
       "</style>\n",
       "<table border=\"1\" class=\"dataframe\">\n",
       "  <thead>\n",
       "    <tr style=\"text-align: right;\">\n",
       "      <th></th>\n",
       "      <th>p.name</th>\n",
       "      <th>m.title</th>\n",
       "    </tr>\n",
       "  </thead>\n",
       "  <tbody>\n",
       "    <tr>\n",
       "      <th>0</th>\n",
       "      <td>Eamon Farren</td>\n",
       "      <td>The Witcher</td>\n",
       "    </tr>\n",
       "    <tr>\n",
       "      <th>1</th>\n",
       "      <td>Joey Batey</td>\n",
       "      <td>The Witcher</td>\n",
       "    </tr>\n",
       "    <tr>\n",
       "      <th>2</th>\n",
       "      <td>Anna Shaffer</td>\n",
       "      <td>The Witcher</td>\n",
       "    </tr>\n",
       "    <tr>\n",
       "      <th>3</th>\n",
       "      <td>Adam Levy</td>\n",
       "      <td>The Witcher</td>\n",
       "    </tr>\n",
       "    <tr>\n",
       "      <th>4</th>\n",
       "      <td>Lars Mikkelsen</td>\n",
       "      <td>The Witcher</td>\n",
       "    </tr>\n",
       "    <tr>\n",
       "      <th>5</th>\n",
       "      <td>Mimi Ndiweni</td>\n",
       "      <td>The Witcher</td>\n",
       "    </tr>\n",
       "    <tr>\n",
       "      <th>6</th>\n",
       "      <td>Anya Chalotra</td>\n",
       "      <td>The Witcher</td>\n",
       "    </tr>\n",
       "    <tr>\n",
       "      <th>7</th>\n",
       "      <td>MyAnna Buring</td>\n",
       "      <td>The Witcher</td>\n",
       "    </tr>\n",
       "    <tr>\n",
       "      <th>8</th>\n",
       "      <td>Wilson Radjou-Pujalte</td>\n",
       "      <td>The Witcher</td>\n",
       "    </tr>\n",
       "    <tr>\n",
       "      <th>9</th>\n",
       "      <td>Jodhi May</td>\n",
       "      <td>The Witcher</td>\n",
       "    </tr>\n",
       "    <tr>\n",
       "      <th>10</th>\n",
       "      <td>Freya Allan</td>\n",
       "      <td>The Witcher</td>\n",
       "    </tr>\n",
       "    <tr>\n",
       "      <th>11</th>\n",
       "      <td>Henry Cavill</td>\n",
       "      <td>The Witcher</td>\n",
       "    </tr>\n",
       "    <tr>\n",
       "      <th>12</th>\n",
       "      <td>Björn Hlynur Haraldsson</td>\n",
       "      <td>The Witcher</td>\n",
       "    </tr>\n",
       "    <tr>\n",
       "      <th>13</th>\n",
       "      <td>Royce Pierreson</td>\n",
       "      <td>The Witcher</td>\n",
       "    </tr>\n",
       "  </tbody>\n",
       "</table>\n",
       "</div>"
      ],
      "text/plain": [
       "                     p.name      m.title\n",
       "0              Eamon Farren  The Witcher\n",
       "1                Joey Batey  The Witcher\n",
       "2              Anna Shaffer  The Witcher\n",
       "3                 Adam Levy  The Witcher\n",
       "4            Lars Mikkelsen  The Witcher\n",
       "5              Mimi Ndiweni  The Witcher\n",
       "6             Anya Chalotra  The Witcher\n",
       "7             MyAnna Buring  The Witcher\n",
       "8     Wilson Radjou-Pujalte  The Witcher\n",
       "9                 Jodhi May  The Witcher\n",
       "10              Freya Allan  The Witcher\n",
       "11             Henry Cavill  The Witcher\n",
       "12  Björn Hlynur Haraldsson  The Witcher\n",
       "13          Royce Pierreson  The Witcher"
      ]
     },
     "execution_count": 390,
     "metadata": {},
     "output_type": "execute_result"
    }
   ],
   "source": [
    "request_movies_actors_witcher = \"\"\"\n",
    "MATCH (p:Person)-[rel:ACTED_IN]->(m:Movie) \n",
    "WHERE m.title = 'The Witcher'\n",
    "RETURN p.name, m.title\n",
    "\"\"\"\n",
    "graph.run(request_movies_actors_witcher).to_data_frame()"
   ]
  },
  {
   "cell_type": "code",
   "execution_count": 391,
   "id": "824d0a99-bb4c-4c59-ac3e-9c04c115bb93",
   "metadata": {
    "tags": []
   },
   "outputs": [
    {
     "data": {
      "text/html": [
       "<div>\n",
       "<style scoped>\n",
       "    .dataframe tbody tr th:only-of-type {\n",
       "        vertical-align: middle;\n",
       "    }\n",
       "\n",
       "    .dataframe tbody tr th {\n",
       "        vertical-align: top;\n",
       "    }\n",
       "\n",
       "    .dataframe thead th {\n",
       "        text-align: right;\n",
       "    }\n",
       "</style>\n",
       "<table border=\"1\" class=\"dataframe\">\n",
       "  <thead>\n",
       "    <tr style=\"text-align: right;\">\n",
       "      <th></th>\n",
       "      <th>p.name</th>\n",
       "      <th>m.title</th>\n",
       "      <th>p2.name</th>\n",
       "    </tr>\n",
       "  </thead>\n",
       "  <tbody>\n",
       "    <tr>\n",
       "      <th>0</th>\n",
       "      <td>Rishi Gambhir</td>\n",
       "      <td>Krish Trish and Baltiboy: Oversmartness Never ...</td>\n",
       "      <td>Deepak Chachra</td>\n",
       "    </tr>\n",
       "    <tr>\n",
       "      <th>1</th>\n",
       "      <td>Smita Malhotra</td>\n",
       "      <td>Krish Trish and Baltiboy: Oversmartness Never ...</td>\n",
       "      <td>Deepak Chachra</td>\n",
       "    </tr>\n",
       "    <tr>\n",
       "      <th>2</th>\n",
       "      <td>Deepak Chachra</td>\n",
       "      <td>Krish Trish and Baltiboy: Oversmartness Never ...</td>\n",
       "      <td>Rishi Gambhir</td>\n",
       "    </tr>\n",
       "    <tr>\n",
       "      <th>3</th>\n",
       "      <td>Smita Malhotra</td>\n",
       "      <td>Krish Trish and Baltiboy: Oversmartness Never ...</td>\n",
       "      <td>Rishi Gambhir</td>\n",
       "    </tr>\n",
       "    <tr>\n",
       "      <th>4</th>\n",
       "      <td>Deepak Chachra</td>\n",
       "      <td>Krish Trish and Baltiboy: Oversmartness Never ...</td>\n",
       "      <td>Smita Malhotra</td>\n",
       "    </tr>\n",
       "    <tr>\n",
       "      <th>...</th>\n",
       "      <td>...</td>\n",
       "      <td>...</td>\n",
       "      <td>...</td>\n",
       "    </tr>\n",
       "    <tr>\n",
       "      <th>417515</th>\n",
       "      <td>Baba Sehgal</td>\n",
       "      <td>Krish Trish and Baltiboy: Comics of India</td>\n",
       "      <td>Smita Malhotra</td>\n",
       "    </tr>\n",
       "    <tr>\n",
       "      <th>417516</th>\n",
       "      <td>Smita Malhotra</td>\n",
       "      <td>Krish Trish and Baltiboy: Comics of India</td>\n",
       "      <td>Damandeep Singh Baggan</td>\n",
       "    </tr>\n",
       "    <tr>\n",
       "      <th>417517</th>\n",
       "      <td>Baba Sehgal</td>\n",
       "      <td>Krish Trish and Baltiboy: Comics of India</td>\n",
       "      <td>Damandeep Singh Baggan</td>\n",
       "    </tr>\n",
       "    <tr>\n",
       "      <th>417518</th>\n",
       "      <td>Smita Malhotra</td>\n",
       "      <td>Krish Trish and Baltiboy: Comics of India</td>\n",
       "      <td>Baba Sehgal</td>\n",
       "    </tr>\n",
       "    <tr>\n",
       "      <th>417519</th>\n",
       "      <td>Damandeep Singh Baggan</td>\n",
       "      <td>Krish Trish and Baltiboy: Comics of India</td>\n",
       "      <td>Baba Sehgal</td>\n",
       "    </tr>\n",
       "  </tbody>\n",
       "</table>\n",
       "<p>417520 rows × 3 columns</p>\n",
       "</div>"
      ],
      "text/plain": [
       "                        p.name  \\\n",
       "0                Rishi Gambhir   \n",
       "1               Smita Malhotra   \n",
       "2               Deepak Chachra   \n",
       "3               Smita Malhotra   \n",
       "4               Deepak Chachra   \n",
       "...                        ...   \n",
       "417515             Baba Sehgal   \n",
       "417516          Smita Malhotra   \n",
       "417517             Baba Sehgal   \n",
       "417518          Smita Malhotra   \n",
       "417519  Damandeep Singh Baggan   \n",
       "\n",
       "                                                  m.title  \\\n",
       "0       Krish Trish and Baltiboy: Oversmartness Never ...   \n",
       "1       Krish Trish and Baltiboy: Oversmartness Never ...   \n",
       "2       Krish Trish and Baltiboy: Oversmartness Never ...   \n",
       "3       Krish Trish and Baltiboy: Oversmartness Never ...   \n",
       "4       Krish Trish and Baltiboy: Oversmartness Never ...   \n",
       "...                                                   ...   \n",
       "417515          Krish Trish and Baltiboy: Comics of India   \n",
       "417516          Krish Trish and Baltiboy: Comics of India   \n",
       "417517          Krish Trish and Baltiboy: Comics of India   \n",
       "417518          Krish Trish and Baltiboy: Comics of India   \n",
       "417519          Krish Trish and Baltiboy: Comics of India   \n",
       "\n",
       "                       p2.name  \n",
       "0               Deepak Chachra  \n",
       "1               Deepak Chachra  \n",
       "2                Rishi Gambhir  \n",
       "3                Rishi Gambhir  \n",
       "4               Smita Malhotra  \n",
       "...                        ...  \n",
       "417515          Smita Malhotra  \n",
       "417516  Damandeep Singh Baggan  \n",
       "417517  Damandeep Singh Baggan  \n",
       "417518             Baba Sehgal  \n",
       "417519             Baba Sehgal  \n",
       "\n",
       "[417520 rows x 3 columns]"
      ]
     },
     "execution_count": 391,
     "metadata": {},
     "output_type": "execute_result"
    }
   ],
   "source": [
    "request_movies_actor = \"\"\"\n",
    "MATCH (p:Person)-[rel:ACTED_IN]->(m:Movie)<-[:ACTED_IN]-(p2:Person)\n",
    "RETURN p.name, m.title, p2.name\n",
    "\"\"\"\n",
    "graph.run(request_movies_actor).to_data_frame()"
   ]
  },
  {
   "cell_type": "markdown",
   "id": "ced416ac-2320-4360-9ce1-cee38c0b8c23",
   "metadata": {
    "tags": []
   },
   "source": [
    "# Connexion de la base de données sous Postgresql avec Python"
   ]
  },
  {
   "cell_type": "code",
   "execution_count": 392,
   "id": "b0478e60-80d7-4475-87d5-05fe5c967460",
   "metadata": {
    "tags": []
   },
   "outputs": [
    {
     "name": "stdout",
     "output_type": "stream",
     "text": [
      "Requirement already satisfied: psycopg2-binary in /Users/michael/opt/anaconda3/lib/python3.9/site-packages (2.9.2)\n",
      "Note: you may need to restart the kernel to use updated packages.\n"
     ]
    }
   ],
   "source": [
    "pip install psycopg2-binary"
   ]
  },
  {
   "cell_type": "code",
   "execution_count": 393,
   "id": "75ebaa35-6023-40ce-a79d-1c2e08195aad",
   "metadata": {},
   "outputs": [],
   "source": [
    "import psycopg2"
   ]
  },
  {
   "cell_type": "code",
   "execution_count": 423,
   "id": "6cc2658a-6b44-4449-8c20-3758489a08bd",
   "metadata": {},
   "outputs": [],
   "source": [
    "def connect():\n",
    "    conn = psycopg2.connect(dbname='project', user='postgres',\n",
    "                            host='localhost', password='azert')\n",
    "    conn.set_isolation_level(psycopg2.extensions.ISOLATION_LEVEL_AUTOCOMMIT)\n",
    "    cursor = conn.cursor()\n",
    "    return conn,cursor"
   ]
  },
  {
   "cell_type": "code",
   "execution_count": 424,
   "id": "6ef0a616-48f8-4ac3-ac7f-47766609c6b1",
   "metadata": {},
   "outputs": [],
   "source": [
    "#conn = psycopg2.connect(\"dbname='project' user='postgres' host='localhost' password='azert'\")"
   ]
  },
  {
   "cell_type": "code",
   "execution_count": 425,
   "id": "ea295668-b703-4d58-8645-20f6c58fbba9",
   "metadata": {},
   "outputs": [],
   "source": [
    "#cur = conn.cursor()"
   ]
  },
  {
   "cell_type": "markdown",
   "id": "35d4752a-8b4a-4380-81e3-970a167e0a92",
   "metadata": {
    "tags": []
   },
   "source": [
    "# Tables principales"
   ]
  },
  {
   "cell_type": "code",
   "execution_count": 396,
   "id": "66caa792-ff83-4325-9669-5ae2501df7bf",
   "metadata": {},
   "outputs": [],
   "source": [
    "persons = \"\"\"\n",
    "match (p:Person)-[r]->(m:Movie)\n",
    "return p.name, type(r)\n",
    "\"\"\"\n",
    "df_persons = graph.run(persons).to_data_frame()"
   ]
  },
  {
   "cell_type": "code",
   "execution_count": 397,
   "id": "2c718917-2113-478f-96fd-e0dd112a5b6e",
   "metadata": {},
   "outputs": [
    {
     "data": {
      "text/html": [
       "<div>\n",
       "<style scoped>\n",
       "    .dataframe tbody tr th:only-of-type {\n",
       "        vertical-align: middle;\n",
       "    }\n",
       "\n",
       "    .dataframe tbody tr th {\n",
       "        vertical-align: top;\n",
       "    }\n",
       "\n",
       "    .dataframe thead th {\n",
       "        text-align: right;\n",
       "    }\n",
       "</style>\n",
       "<table border=\"1\" class=\"dataframe\">\n",
       "  <thead>\n",
       "    <tr style=\"text-align: right;\">\n",
       "      <th></th>\n",
       "      <th>p.name</th>\n",
       "      <th>type(r)</th>\n",
       "    </tr>\n",
       "  </thead>\n",
       "  <tbody>\n",
       "    <tr>\n",
       "      <th>0</th>\n",
       "      <td>Tilak Shetty</td>\n",
       "      <td>DIRECTED</td>\n",
       "    </tr>\n",
       "    <tr>\n",
       "      <th>1</th>\n",
       "      <td>Deepak Chachra</td>\n",
       "      <td>ACTED_IN</td>\n",
       "    </tr>\n",
       "    <tr>\n",
       "      <th>2</th>\n",
       "      <td>Rishi Gambhir</td>\n",
       "      <td>ACTED_IN</td>\n",
       "    </tr>\n",
       "    <tr>\n",
       "      <th>3</th>\n",
       "      <td>Smita Malhotra</td>\n",
       "      <td>ACTED_IN</td>\n",
       "    </tr>\n",
       "    <tr>\n",
       "      <th>4</th>\n",
       "      <td>Damandeep Singh Baggan</td>\n",
       "      <td>ACTED_IN</td>\n",
       "    </tr>\n",
       "  </tbody>\n",
       "</table>\n",
       "</div>"
      ],
      "text/plain": [
       "                   p.name   type(r)\n",
       "0            Tilak Shetty  DIRECTED\n",
       "1          Deepak Chachra  ACTED_IN\n",
       "2           Rishi Gambhir  ACTED_IN\n",
       "3          Smita Malhotra  ACTED_IN\n",
       "4  Damandeep Singh Baggan  ACTED_IN"
      ]
     },
     "execution_count": 397,
     "metadata": {},
     "output_type": "execute_result"
    }
   ],
   "source": [
    "df_persons.head()"
   ]
  },
  {
   "cell_type": "markdown",
   "id": "07168b9f-d4dc-4d12-a716-a90ca7efccc3",
   "metadata": {},
   "source": [
    "## Persons"
   ]
  },
  {
   "cell_type": "markdown",
   "id": "a1a32742-356c-421d-9935-bc504f5de087",
   "metadata": {
    "tags": []
   },
   "source": [
    "### Traitement des directors"
   ]
  },
  {
   "cell_type": "markdown",
   "id": "eedd23fd-9891-4613-bea0-732436c68cc6",
   "metadata": {},
   "source": [
    "Il faut donc traiter ces cas dans le dataframe qui servira de source pour \n",
    "créer la table Personnes"
   ]
  },
  {
   "cell_type": "code",
   "execution_count": 404,
   "id": "d4bbab6e-b6ef-4c25-8208-6d1c80f46603",
   "metadata": {},
   "outputs": [],
   "source": [
    "def flatten(t):\n",
    "    return [item for sublist in t for item in sublist]"
   ]
  },
  {
   "cell_type": "code",
   "execution_count": 405,
   "id": "afab5383-139c-4bd9-8f87-ce65d12046b3",
   "metadata": {},
   "outputs": [],
   "source": [
    "def check_multiple_persons_names(df) :\n",
    "    tab = []\n",
    "    for i in range(len(df)) :\n",
    "        s = df.loc[i, \"p.name\"]\n",
    "        s = s.split(', ')\n",
    "        tab.append(s)\n",
    "    return flatten(tab)"
   ]
  },
  {
   "cell_type": "code",
   "execution_count": 406,
   "id": "8c589eae-0b98-49ab-8200-0e251e4f8b00",
   "metadata": {},
   "outputs": [],
   "source": [
    "def check_multiple_persons(df) :\n",
    "    tab = []\n",
    "    for i in range(len(df)) :\n",
    "        s = df.loc[i, \"p.name\"]\n",
    "        types = df.loc[i, \"type(r)\"]\n",
    "        s = s.split(', ')\n",
    "        for word in s :\n",
    "            r = (word, types)\n",
    "            tab.append(r)\n",
    "    return tab"
   ]
  },
  {
   "cell_type": "code",
   "execution_count": 401,
   "id": "04a27067-7107-452f-9796-7ea2155c23ef",
   "metadata": {},
   "outputs": [],
   "source": [
    "df_copy = df_persons.copy()"
   ]
  },
  {
   "cell_type": "code",
   "execution_count": 402,
   "id": "7b6593be-b5a5-49e7-b4c2-5f228a21b717",
   "metadata": {
    "tags": []
   },
   "outputs": [],
   "source": [
    "v = check_multiple_persons(df_copy)"
   ]
  },
  {
   "cell_type": "code",
   "execution_count": 403,
   "id": "d0444a7f-9071-4fd4-b27f-cbc90e60d4c1",
   "metadata": {
    "tags": []
   },
   "outputs": [],
   "source": [
    "names = []\n",
    "jobs = []\n",
    "for name, job in v :\n",
    "    names.append(name)\n",
    "    jobs.append(job)"
   ]
  },
  {
   "cell_type": "code",
   "execution_count": 49,
   "id": "e03b3c0a-bc3b-4cd6-9233-8fae98960ea1",
   "metadata": {},
   "outputs": [],
   "source": [
    "df_persons_with_jobs = pd.DataFrame(data={'name' : names, 'jobs' : jobs})"
   ]
  },
  {
   "cell_type": "code",
   "execution_count": 50,
   "id": "0bc3d48a-aa8f-49f1-aa2b-c84e295d5269",
   "metadata": {},
   "outputs": [],
   "source": [
    "df_person = pd.DataFrame(data={'name' : check_multiple_persons_names(df_copy)})"
   ]
  },
  {
   "cell_type": "code",
   "execution_count": 51,
   "id": "ac4ce149-1406-47fe-bd4e-487683ad065a",
   "metadata": {},
   "outputs": [],
   "source": [
    "df_person = df_person.drop_duplicates()"
   ]
  },
  {
   "cell_type": "code",
   "execution_count": 52,
   "id": "1df296ee-adda-41d1-81ce-0aa30140c62c",
   "metadata": {
    "tags": []
   },
   "outputs": [
    {
     "data": {
      "text/html": [
       "<div>\n",
       "<style scoped>\n",
       "    .dataframe tbody tr th:only-of-type {\n",
       "        vertical-align: middle;\n",
       "    }\n",
       "\n",
       "    .dataframe tbody tr th {\n",
       "        vertical-align: top;\n",
       "    }\n",
       "\n",
       "    .dataframe thead th {\n",
       "        text-align: right;\n",
       "    }\n",
       "</style>\n",
       "<table border=\"1\" class=\"dataframe\">\n",
       "  <thead>\n",
       "    <tr style=\"text-align: right;\">\n",
       "      <th></th>\n",
       "      <th>name</th>\n",
       "    </tr>\n",
       "  </thead>\n",
       "  <tbody>\n",
       "    <tr>\n",
       "      <th>0</th>\n",
       "      <td>Tilak Shetty</td>\n",
       "    </tr>\n",
       "    <tr>\n",
       "      <th>1</th>\n",
       "      <td>Deepak Chachra</td>\n",
       "    </tr>\n",
       "    <tr>\n",
       "      <th>2</th>\n",
       "      <td>Rishi Gambhir</td>\n",
       "    </tr>\n",
       "    <tr>\n",
       "      <th>3</th>\n",
       "      <td>Smita Malhotra</td>\n",
       "    </tr>\n",
       "    <tr>\n",
       "      <th>4</th>\n",
       "      <td>Damandeep Singh Baggan</td>\n",
       "    </tr>\n",
       "  </tbody>\n",
       "</table>\n",
       "</div>"
      ],
      "text/plain": [
       "                     name\n",
       "0            Tilak Shetty\n",
       "1          Deepak Chachra\n",
       "2           Rishi Gambhir\n",
       "3          Smita Malhotra\n",
       "4  Damandeep Singh Baggan"
      ]
     },
     "execution_count": 52,
     "metadata": {},
     "output_type": "execute_result"
    }
   ],
   "source": [
    "df_person.head()"
   ]
  },
  {
   "cell_type": "code",
   "execution_count": 53,
   "id": "f102077b-33d4-4cde-a359-a1fa69df32d0",
   "metadata": {},
   "outputs": [],
   "source": [
    "df_table_persons = df_person.copy()"
   ]
  },
  {
   "cell_type": "code",
   "execution_count": 54,
   "id": "27c7497f-38c9-4960-8f41-448c7844ed4b",
   "metadata": {},
   "outputs": [],
   "source": [
    "df_table_persons[['first_name','last_name']] = df_table_persons['name'].loc[df_table_persons['name'].str.split().str.len() == 2].str.split(expand=True)\n",
    "df_table_persons = df_table_persons.drop(['name'], axis=1)"
   ]
  },
  {
   "cell_type": "code",
   "execution_count": 55,
   "id": "671b5838-3956-4f8b-97b2-fb66f9111c58",
   "metadata": {
    "tags": []
   },
   "outputs": [
    {
     "data": {
      "text/html": [
       "<div>\n",
       "<style scoped>\n",
       "    .dataframe tbody tr th:only-of-type {\n",
       "        vertical-align: middle;\n",
       "    }\n",
       "\n",
       "    .dataframe tbody tr th {\n",
       "        vertical-align: top;\n",
       "    }\n",
       "\n",
       "    .dataframe thead th {\n",
       "        text-align: right;\n",
       "    }\n",
       "</style>\n",
       "<table border=\"1\" class=\"dataframe\">\n",
       "  <thead>\n",
       "    <tr style=\"text-align: right;\">\n",
       "      <th></th>\n",
       "      <th>first_name</th>\n",
       "      <th>last_name</th>\n",
       "    </tr>\n",
       "  </thead>\n",
       "  <tbody>\n",
       "    <tr>\n",
       "      <th>0</th>\n",
       "      <td>Tilak</td>\n",
       "      <td>Shetty</td>\n",
       "    </tr>\n",
       "    <tr>\n",
       "      <th>1</th>\n",
       "      <td>Deepak</td>\n",
       "      <td>Chachra</td>\n",
       "    </tr>\n",
       "    <tr>\n",
       "      <th>2</th>\n",
       "      <td>Rishi</td>\n",
       "      <td>Gambhir</td>\n",
       "    </tr>\n",
       "    <tr>\n",
       "      <th>3</th>\n",
       "      <td>Smita</td>\n",
       "      <td>Malhotra</td>\n",
       "    </tr>\n",
       "    <tr>\n",
       "      <th>4</th>\n",
       "      <td>NaN</td>\n",
       "      <td>NaN</td>\n",
       "    </tr>\n",
       "    <tr>\n",
       "      <th>...</th>\n",
       "      <td>...</td>\n",
       "      <td>...</td>\n",
       "    </tr>\n",
       "    <tr>\n",
       "      <th>49130</th>\n",
       "      <td>Thomas</td>\n",
       "      <td>Arnold</td>\n",
       "    </tr>\n",
       "    <tr>\n",
       "      <th>49131</th>\n",
       "      <td>Diana</td>\n",
       "      <td>Hardcastle</td>\n",
       "    </tr>\n",
       "    <tr>\n",
       "      <th>49133</th>\n",
       "      <td>NaN</td>\n",
       "      <td>NaN</td>\n",
       "    </tr>\n",
       "    <tr>\n",
       "      <th>49139</th>\n",
       "      <td>Jemima</td>\n",
       "      <td>West</td>\n",
       "    </tr>\n",
       "    <tr>\n",
       "      <th>49141</th>\n",
       "      <td>NaN</td>\n",
       "      <td>NaN</td>\n",
       "    </tr>\n",
       "  </tbody>\n",
       "</table>\n",
       "<p>30719 rows × 2 columns</p>\n",
       "</div>"
      ],
      "text/plain": [
       "      first_name   last_name\n",
       "0          Tilak      Shetty\n",
       "1         Deepak     Chachra\n",
       "2          Rishi     Gambhir\n",
       "3          Smita    Malhotra\n",
       "4            NaN         NaN\n",
       "...          ...         ...\n",
       "49130     Thomas      Arnold\n",
       "49131      Diana  Hardcastle\n",
       "49133        NaN         NaN\n",
       "49139     Jemima        West\n",
       "49141        NaN         NaN\n",
       "\n",
       "[30719 rows x 2 columns]"
      ]
     },
     "execution_count": 55,
     "metadata": {},
     "output_type": "execute_result"
    }
   ],
   "source": [
    "df_table_persons"
   ]
  },
  {
   "cell_type": "code",
   "execution_count": 56,
   "id": "310fbaf4-8463-40f4-ba1d-a095006b6caf",
   "metadata": {},
   "outputs": [],
   "source": [
    "x = df_table_persons.dropna(inplace=True)\n",
    "if x != None :\n",
    "    df_table_persons = x"
   ]
  },
  {
   "cell_type": "code",
   "execution_count": 57,
   "id": "3bec5e85-3587-428c-b6b0-716bfdc46d7e",
   "metadata": {},
   "outputs": [],
   "source": [
    "df_table_persons = df_table_persons.reset_index(drop=True)"
   ]
  },
  {
   "cell_type": "code",
   "execution_count": 58,
   "id": "8f046223-b4a7-4ff1-a48a-4154ab13a3bd",
   "metadata": {},
   "outputs": [
    {
     "data": {
      "text/html": [
       "<div>\n",
       "<style scoped>\n",
       "    .dataframe tbody tr th:only-of-type {\n",
       "        vertical-align: middle;\n",
       "    }\n",
       "\n",
       "    .dataframe tbody tr th {\n",
       "        vertical-align: top;\n",
       "    }\n",
       "\n",
       "    .dataframe thead th {\n",
       "        text-align: right;\n",
       "    }\n",
       "</style>\n",
       "<table border=\"1\" class=\"dataframe\">\n",
       "  <thead>\n",
       "    <tr style=\"text-align: right;\">\n",
       "      <th></th>\n",
       "      <th>first_name</th>\n",
       "      <th>last_name</th>\n",
       "    </tr>\n",
       "  </thead>\n",
       "  <tbody>\n",
       "    <tr>\n",
       "      <th>0</th>\n",
       "      <td>Tilak</td>\n",
       "      <td>Shetty</td>\n",
       "    </tr>\n",
       "    <tr>\n",
       "      <th>1</th>\n",
       "      <td>Deepak</td>\n",
       "      <td>Chachra</td>\n",
       "    </tr>\n",
       "    <tr>\n",
       "      <th>2</th>\n",
       "      <td>Rishi</td>\n",
       "      <td>Gambhir</td>\n",
       "    </tr>\n",
       "    <tr>\n",
       "      <th>3</th>\n",
       "      <td>Smita</td>\n",
       "      <td>Malhotra</td>\n",
       "    </tr>\n",
       "    <tr>\n",
       "      <th>4</th>\n",
       "      <td>Baba</td>\n",
       "      <td>Sehgal</td>\n",
       "    </tr>\n",
       "    <tr>\n",
       "      <th>...</th>\n",
       "      <td>...</td>\n",
       "      <td>...</td>\n",
       "    </tr>\n",
       "    <tr>\n",
       "      <th>27708</th>\n",
       "      <td>Diarmaid</td>\n",
       "      <td>Murtagh</td>\n",
       "    </tr>\n",
       "    <tr>\n",
       "      <th>27709</th>\n",
       "      <td>Michael</td>\n",
       "      <td>Jibson</td>\n",
       "    </tr>\n",
       "    <tr>\n",
       "      <th>27710</th>\n",
       "      <td>Thomas</td>\n",
       "      <td>Arnold</td>\n",
       "    </tr>\n",
       "    <tr>\n",
       "      <th>27711</th>\n",
       "      <td>Diana</td>\n",
       "      <td>Hardcastle</td>\n",
       "    </tr>\n",
       "    <tr>\n",
       "      <th>27712</th>\n",
       "      <td>Jemima</td>\n",
       "      <td>West</td>\n",
       "    </tr>\n",
       "  </tbody>\n",
       "</table>\n",
       "<p>27713 rows × 2 columns</p>\n",
       "</div>"
      ],
      "text/plain": [
       "      first_name   last_name\n",
       "0          Tilak      Shetty\n",
       "1         Deepak     Chachra\n",
       "2          Rishi     Gambhir\n",
       "3          Smita    Malhotra\n",
       "4           Baba      Sehgal\n",
       "...          ...         ...\n",
       "27708   Diarmaid     Murtagh\n",
       "27709    Michael      Jibson\n",
       "27710     Thomas      Arnold\n",
       "27711      Diana  Hardcastle\n",
       "27712     Jemima        West\n",
       "\n",
       "[27713 rows x 2 columns]"
      ]
     },
     "execution_count": 58,
     "metadata": {},
     "output_type": "execute_result"
    }
   ],
   "source": [
    "df_table_persons"
   ]
  },
  {
   "cell_type": "code",
   "execution_count": 59,
   "id": "5e406754-c5dd-4dcd-81c0-c0970677e0ec",
   "metadata": {},
   "outputs": [],
   "source": [
    "df_table_persons.to_csv('Persons.csv')"
   ]
  },
  {
   "cell_type": "markdown",
   "id": "971c7215-81de-4e05-9cee-439bb3ce43e4",
   "metadata": {},
   "source": [
    "## Jobs"
   ]
  },
  {
   "cell_type": "code",
   "execution_count": 60,
   "id": "05e4a5d9-813b-4cd3-8092-f86d0e8cd617",
   "metadata": {},
   "outputs": [],
   "source": [
    "travails = \"\"\"\n",
    "match (p:Person)-[r]->(m:Movie)\n",
    "return distinct type(r)\n",
    "\"\"\"\n",
    "df_travails = graph.run(travails).to_data_frame()"
   ]
  },
  {
   "cell_type": "code",
   "execution_count": 61,
   "id": "2ee988ab-86db-483b-926e-409725b9b9bf",
   "metadata": {},
   "outputs": [
    {
     "data": {
      "text/html": [
       "<div>\n",
       "<style scoped>\n",
       "    .dataframe tbody tr th:only-of-type {\n",
       "        vertical-align: middle;\n",
       "    }\n",
       "\n",
       "    .dataframe tbody tr th {\n",
       "        vertical-align: top;\n",
       "    }\n",
       "\n",
       "    .dataframe thead th {\n",
       "        text-align: right;\n",
       "    }\n",
       "</style>\n",
       "<table border=\"1\" class=\"dataframe\">\n",
       "  <thead>\n",
       "    <tr style=\"text-align: right;\">\n",
       "      <th></th>\n",
       "      <th>type(r)</th>\n",
       "    </tr>\n",
       "  </thead>\n",
       "  <tbody>\n",
       "    <tr>\n",
       "      <th>0</th>\n",
       "      <td>DIRECTED</td>\n",
       "    </tr>\n",
       "    <tr>\n",
       "      <th>1</th>\n",
       "      <td>ACTED_IN</td>\n",
       "    </tr>\n",
       "  </tbody>\n",
       "</table>\n",
       "</div>"
      ],
      "text/plain": [
       "    type(r)\n",
       "0  DIRECTED\n",
       "1  ACTED_IN"
      ]
     },
     "execution_count": 61,
     "metadata": {},
     "output_type": "execute_result"
    }
   ],
   "source": [
    "df_travails"
   ]
  },
  {
   "cell_type": "code",
   "execution_count": 62,
   "id": "30b4be2f-5dc4-43df-99d0-7f24b042973b",
   "metadata": {},
   "outputs": [],
   "source": [
    "df_travailis = df_travails.rename(columns={\"type(r)\": \"types\"})"
   ]
  },
  {
   "cell_type": "code",
   "execution_count": 63,
   "id": "8f95e26d-ff69-4b14-87c7-34413f637915",
   "metadata": {},
   "outputs": [],
   "source": [
    "df_travails.to_csv('Jobs.csv')"
   ]
  },
  {
   "cell_type": "markdown",
   "id": "916118f2-d58f-40b1-9e15-ffb44e7a7a15",
   "metadata": {},
   "source": [
    "## Countries"
   ]
  },
  {
   "cell_type": "code",
   "execution_count": 64,
   "id": "eff316e6-73ef-4726-8b10-fee1f7725d95",
   "metadata": {},
   "outputs": [],
   "source": [
    "countries = \"\"\"\n",
    "match (c:Country)\n",
    "return distinct c.name\n",
    "\"\"\"\n",
    "df_countries = graph.run(countries).to_data_frame()"
   ]
  },
  {
   "cell_type": "code",
   "execution_count": 65,
   "id": "6b8d5e30-f9d2-4996-9fc1-026a813d0232",
   "metadata": {
    "tags": []
   },
   "outputs": [
    {
     "data": {
      "text/html": [
       "<div>\n",
       "<style scoped>\n",
       "    .dataframe tbody tr th:only-of-type {\n",
       "        vertical-align: middle;\n",
       "    }\n",
       "\n",
       "    .dataframe tbody tr th {\n",
       "        vertical-align: top;\n",
       "    }\n",
       "\n",
       "    .dataframe thead th {\n",
       "        text-align: right;\n",
       "    }\n",
       "</style>\n",
       "<table border=\"1\" class=\"dataframe\">\n",
       "  <thead>\n",
       "    <tr style=\"text-align: right;\">\n",
       "      <th></th>\n",
       "      <th>c.name</th>\n",
       "    </tr>\n",
       "  </thead>\n",
       "  <tbody>\n",
       "    <tr>\n",
       "      <th>0</th>\n",
       "      <td>France, Belgium</td>\n",
       "    </tr>\n",
       "    <tr>\n",
       "      <th>1</th>\n",
       "      <td>United States</td>\n",
       "    </tr>\n",
       "    <tr>\n",
       "      <th>2</th>\n",
       "      <td>United States, Uruguay</td>\n",
       "    </tr>\n",
       "    <tr>\n",
       "      <th>3</th>\n",
       "      <td>United States,</td>\n",
       "    </tr>\n",
       "    <tr>\n",
       "      <th>4</th>\n",
       "      <td>Thailand</td>\n",
       "    </tr>\n",
       "    <tr>\n",
       "      <th>...</th>\n",
       "      <td>...</td>\n",
       "    </tr>\n",
       "    <tr>\n",
       "      <th>549</th>\n",
       "      <td>Cyprus, Austria, Thailand</td>\n",
       "    </tr>\n",
       "    <tr>\n",
       "      <th>550</th>\n",
       "      <td>United States, India, South Korea, China</td>\n",
       "    </tr>\n",
       "    <tr>\n",
       "      <th>551</th>\n",
       "      <td>Bulgaria, United States, Spain, Canada</td>\n",
       "    </tr>\n",
       "    <tr>\n",
       "      <th>552</th>\n",
       "      <td>United States, United Kingdom, Denmark, Sweden</td>\n",
       "    </tr>\n",
       "    <tr>\n",
       "      <th>553</th>\n",
       "      <td>Netherlands, Belgium, United Kingdom, United S...</td>\n",
       "    </tr>\n",
       "  </tbody>\n",
       "</table>\n",
       "<p>554 rows × 1 columns</p>\n",
       "</div>"
      ],
      "text/plain": [
       "                                                c.name\n",
       "0                                      France, Belgium\n",
       "1                                        United States\n",
       "2                               United States, Uruguay\n",
       "3                                       United States,\n",
       "4                                             Thailand\n",
       "..                                                 ...\n",
       "549                          Cyprus, Austria, Thailand\n",
       "550           United States, India, South Korea, China\n",
       "551             Bulgaria, United States, Spain, Canada\n",
       "552     United States, United Kingdom, Denmark, Sweden\n",
       "553  Netherlands, Belgium, United Kingdom, United S...\n",
       "\n",
       "[554 rows x 1 columns]"
      ]
     },
     "execution_count": 65,
     "metadata": {},
     "output_type": "execute_result"
    }
   ],
   "source": [
    "df_countries"
   ]
  },
  {
   "cell_type": "code",
   "execution_count": 66,
   "id": "6b5799df-ad65-40c9-82d2-3ccdef70f19d",
   "metadata": {},
   "outputs": [],
   "source": [
    "def check_multiple_countries(df) :\n",
    "    tab = []\n",
    "    for i in range(len(df)) :\n",
    "        s = df.loc[i, \"c.name\"]\n",
    "        s = s.split(',')\n",
    "        tab.append(s)\n",
    "    return flatten(tab)"
   ]
  },
  {
   "cell_type": "code",
   "execution_count": 67,
   "id": "d1db500f-cc8d-4b37-a10b-f2a5d0f2dd4e",
   "metadata": {},
   "outputs": [],
   "source": [
    "def drop_empty_values(df):\n",
    "    for row in range(len(df)) :\n",
    "        s = df[row]\n",
    "        if not s :\n",
    "            print(row)\n",
    "            df.drop(row, inplace = True)"
   ]
  },
  {
   "cell_type": "code",
   "execution_count": 68,
   "id": "47888cbf-ff45-4b02-96aa-99f33d4e8498",
   "metadata": {},
   "outputs": [],
   "source": [
    "df_countries = pd.DataFrame(data={'name' : check_multiple_countries(df_countries)})"
   ]
  },
  {
   "cell_type": "code",
   "execution_count": 69,
   "id": "2996a4fe-2570-43d9-95d7-c5c02ba68cd9",
   "metadata": {},
   "outputs": [],
   "source": [
    "df_countries = df_countries.name.str.strip()"
   ]
  },
  {
   "cell_type": "code",
   "execution_count": 70,
   "id": "f137fc97-2e36-4936-8930-94bce240249c",
   "metadata": {},
   "outputs": [],
   "source": [
    "x = df_countries.dropna(inplace=True)\n",
    "if x != None :\n",
    "    df_countries = x"
   ]
  },
  {
   "cell_type": "code",
   "execution_count": 71,
   "id": "c6886c33-23db-410b-b467-0042027850fc",
   "metadata": {},
   "outputs": [],
   "source": [
    "df_countries = df_countries.reset_index(drop=True)"
   ]
  },
  {
   "cell_type": "code",
   "execution_count": 73,
   "id": "84e6702c-1575-4152-b7f5-817e9ce805ea",
   "metadata": {
    "tags": []
   },
   "outputs": [
    {
     "name": "stdout",
     "output_type": "stream",
     "text": [
      "6\n",
      "288\n",
      "348\n"
     ]
    }
   ],
   "source": [
    "drop_empty_values(df_countries)"
   ]
  },
  {
   "cell_type": "code",
   "execution_count": 74,
   "id": "764909dc-20a7-4895-8939-13ce236fd599",
   "metadata": {
    "tags": []
   },
   "outputs": [
    {
     "data": {
      "text/plain": [
       "0           France\n",
       "1          Belgium\n",
       "2    United States\n",
       "3    United States\n",
       "4          Uruguay\n",
       "Name: name, dtype: object"
      ]
     },
     "execution_count": 74,
     "metadata": {},
     "output_type": "execute_result"
    }
   ],
   "source": [
    "df_countries.head()"
   ]
  },
  {
   "cell_type": "code",
   "execution_count": 75,
   "id": "b6acfe47-47d0-4d02-b2d1-f42aae4fe046",
   "metadata": {},
   "outputs": [],
   "source": [
    "df_countries = df_countries.drop_duplicates()"
   ]
  },
  {
   "cell_type": "code",
   "execution_count": 76,
   "id": "de0e37ce-f050-4b1a-bd53-a562dfabbf0a",
   "metadata": {},
   "outputs": [],
   "source": [
    "df_countries = df_countries.reset_index(drop=True)"
   ]
  },
  {
   "cell_type": "code",
   "execution_count": 77,
   "id": "440495ad-aae0-4036-9418-8cf34189a36c",
   "metadata": {},
   "outputs": [
    {
     "data": {
      "text/plain": [
       "0             France\n",
       "1            Belgium\n",
       "2      United States\n",
       "3            Uruguay\n",
       "4           Thailand\n",
       "           ...      \n",
       "105          Bermuda\n",
       "106          Ecuador\n",
       "107            Syria\n",
       "108           Kuwait\n",
       "109           Cyprus\n",
       "Name: name, Length: 110, dtype: object"
      ]
     },
     "execution_count": 77,
     "metadata": {},
     "output_type": "execute_result"
    }
   ],
   "source": [
    "df_countries"
   ]
  },
  {
   "cell_type": "code",
   "execution_count": 78,
   "id": "918394d2-bd63-404d-a6f5-78693a09d539",
   "metadata": {},
   "outputs": [],
   "source": [
    "df_countries.to_csv('Countries.csv')"
   ]
  },
  {
   "cell_type": "markdown",
   "id": "ae5df9b9-627b-46ad-9346-8738b2c5441f",
   "metadata": {},
   "source": [
    "## Listed_in as categories"
   ]
  },
  {
   "cell_type": "code",
   "execution_count": 79,
   "id": "c45a91a8-9b89-4faa-872c-67cd5366348a",
   "metadata": {},
   "outputs": [],
   "source": [
    "categories = \"\"\"\n",
    "match (c:Category)\n",
    "return distinct c.name\n",
    "\"\"\"\n",
    "df_categories = graph.run(categories).to_data_frame()"
   ]
  },
  {
   "cell_type": "code",
   "execution_count": 80,
   "id": "241407d0-fbd3-4ec6-ab26-7d5e89f81337",
   "metadata": {
    "tags": []
   },
   "outputs": [
    {
     "data": {
      "text/html": [
       "<div>\n",
       "<style scoped>\n",
       "    .dataframe tbody tr th:only-of-type {\n",
       "        vertical-align: middle;\n",
       "    }\n",
       "\n",
       "    .dataframe tbody tr th {\n",
       "        vertical-align: top;\n",
       "    }\n",
       "\n",
       "    .dataframe thead th {\n",
       "        text-align: right;\n",
       "    }\n",
       "</style>\n",
       "<table border=\"1\" class=\"dataframe\">\n",
       "  <thead>\n",
       "    <tr style=\"text-align: right;\">\n",
       "      <th></th>\n",
       "      <th>name</th>\n",
       "    </tr>\n",
       "  </thead>\n",
       "  <tbody>\n",
       "    <tr>\n",
       "      <th>0</th>\n",
       "      <td>Children &amp; Family Movies</td>\n",
       "    </tr>\n",
       "    <tr>\n",
       "      <th>1</th>\n",
       "      <td>Cult Movies</td>\n",
       "    </tr>\n",
       "    <tr>\n",
       "      <th>2</th>\n",
       "      <td>Dramas</td>\n",
       "    </tr>\n",
       "    <tr>\n",
       "      <th>3</th>\n",
       "      <td>Independent Movies</td>\n",
       "    </tr>\n",
       "    <tr>\n",
       "      <th>4</th>\n",
       "      <td>Comedies</td>\n",
       "    </tr>\n",
       "    <tr>\n",
       "      <th>5</th>\n",
       "      <td>Romantic Movies</td>\n",
       "    </tr>\n",
       "    <tr>\n",
       "      <th>6</th>\n",
       "      <td>Action &amp; Adventure</td>\n",
       "    </tr>\n",
       "    <tr>\n",
       "      <th>7</th>\n",
       "      <td>International Movies</td>\n",
       "    </tr>\n",
       "    <tr>\n",
       "      <th>8</th>\n",
       "      <td>Documentaries</td>\n",
       "    </tr>\n",
       "    <tr>\n",
       "      <th>9</th>\n",
       "      <td>Horror Movies</td>\n",
       "    </tr>\n",
       "    <tr>\n",
       "      <th>10</th>\n",
       "      <td>Thrillers</td>\n",
       "    </tr>\n",
       "    <tr>\n",
       "      <th>11</th>\n",
       "      <td>International TV Shows</td>\n",
       "    </tr>\n",
       "    <tr>\n",
       "      <th>12</th>\n",
       "      <td>Romantic TV Shows</td>\n",
       "    </tr>\n",
       "    <tr>\n",
       "      <th>13</th>\n",
       "      <td>TV Comedies</td>\n",
       "    </tr>\n",
       "    <tr>\n",
       "      <th>14</th>\n",
       "      <td>Docuseries</td>\n",
       "    </tr>\n",
       "    <tr>\n",
       "      <th>15</th>\n",
       "      <td>Sci-Fi &amp; Fantasy</td>\n",
       "    </tr>\n",
       "    <tr>\n",
       "      <th>16</th>\n",
       "      <td>Kids' TV</td>\n",
       "    </tr>\n",
       "    <tr>\n",
       "      <th>17</th>\n",
       "      <td>TV Dramas</td>\n",
       "    </tr>\n",
       "    <tr>\n",
       "      <th>18</th>\n",
       "      <td>TV Thrillers</td>\n",
       "    </tr>\n",
       "    <tr>\n",
       "      <th>19</th>\n",
       "      <td>Stand-Up Comedy</td>\n",
       "    </tr>\n",
       "    <tr>\n",
       "      <th>20</th>\n",
       "      <td>Crime TV Shows</td>\n",
       "    </tr>\n",
       "    <tr>\n",
       "      <th>21</th>\n",
       "      <td>TV Mysteries</td>\n",
       "    </tr>\n",
       "    <tr>\n",
       "      <th>22</th>\n",
       "      <td>British TV Shows</td>\n",
       "    </tr>\n",
       "    <tr>\n",
       "      <th>23</th>\n",
       "      <td>Music &amp; Musicals</td>\n",
       "    </tr>\n",
       "    <tr>\n",
       "      <th>24</th>\n",
       "      <td>Reality TV</td>\n",
       "    </tr>\n",
       "    <tr>\n",
       "      <th>25</th>\n",
       "      <td>Spanish-Language TV Shows</td>\n",
       "    </tr>\n",
       "    <tr>\n",
       "      <th>26</th>\n",
       "      <td>TV Action &amp; Adventure</td>\n",
       "    </tr>\n",
       "    <tr>\n",
       "      <th>27</th>\n",
       "      <td>Anime Features</td>\n",
       "    </tr>\n",
       "    <tr>\n",
       "      <th>28</th>\n",
       "      <td>Teen TV Shows</td>\n",
       "    </tr>\n",
       "    <tr>\n",
       "      <th>29</th>\n",
       "      <td>Faith &amp; Spirituality</td>\n",
       "    </tr>\n",
       "    <tr>\n",
       "      <th>30</th>\n",
       "      <td>Korean TV Shows</td>\n",
       "    </tr>\n",
       "    <tr>\n",
       "      <th>31</th>\n",
       "      <td>Science &amp; Nature TV</td>\n",
       "    </tr>\n",
       "    <tr>\n",
       "      <th>32</th>\n",
       "      <td>Anime Series</td>\n",
       "    </tr>\n",
       "    <tr>\n",
       "      <th>33</th>\n",
       "      <td>LGBTQ Movies</td>\n",
       "    </tr>\n",
       "    <tr>\n",
       "      <th>34</th>\n",
       "      <td>TV Horror</td>\n",
       "    </tr>\n",
       "    <tr>\n",
       "      <th>35</th>\n",
       "      <td>Movies</td>\n",
       "    </tr>\n",
       "    <tr>\n",
       "      <th>36</th>\n",
       "      <td>Stand-Up Comedy &amp; Talk Shows</td>\n",
       "    </tr>\n",
       "    <tr>\n",
       "      <th>37</th>\n",
       "      <td>TV Sci-Fi &amp; Fantasy</td>\n",
       "    </tr>\n",
       "    <tr>\n",
       "      <th>38</th>\n",
       "      <td>Classic Movies</td>\n",
       "    </tr>\n",
       "    <tr>\n",
       "      <th>39</th>\n",
       "      <td>Sports Movies</td>\n",
       "    </tr>\n",
       "    <tr>\n",
       "      <th>40</th>\n",
       "      <td>TV Shows</td>\n",
       "    </tr>\n",
       "    <tr>\n",
       "      <th>41</th>\n",
       "      <td>Classic &amp; Cult TV</td>\n",
       "    </tr>\n",
       "  </tbody>\n",
       "</table>\n",
       "</div>"
      ],
      "text/plain": [
       "                            name\n",
       "0       Children & Family Movies\n",
       "1                    Cult Movies\n",
       "2                         Dramas\n",
       "3             Independent Movies\n",
       "4                       Comedies\n",
       "5                Romantic Movies\n",
       "6             Action & Adventure\n",
       "7           International Movies\n",
       "8                  Documentaries\n",
       "9                  Horror Movies\n",
       "10                     Thrillers\n",
       "11        International TV Shows\n",
       "12             Romantic TV Shows\n",
       "13                   TV Comedies\n",
       "14                    Docuseries\n",
       "15              Sci-Fi & Fantasy\n",
       "16                      Kids' TV\n",
       "17                     TV Dramas\n",
       "18                  TV Thrillers\n",
       "19               Stand-Up Comedy\n",
       "20                Crime TV Shows\n",
       "21                  TV Mysteries\n",
       "22              British TV Shows\n",
       "23              Music & Musicals\n",
       "24                    Reality TV\n",
       "25     Spanish-Language TV Shows\n",
       "26         TV Action & Adventure\n",
       "27                Anime Features\n",
       "28                 Teen TV Shows\n",
       "29          Faith & Spirituality\n",
       "30               Korean TV Shows\n",
       "31           Science & Nature TV\n",
       "32                  Anime Series\n",
       "33                  LGBTQ Movies\n",
       "34                     TV Horror\n",
       "35                        Movies\n",
       "36  Stand-Up Comedy & Talk Shows\n",
       "37           TV Sci-Fi & Fantasy\n",
       "38                Classic Movies\n",
       "39                 Sports Movies\n",
       "40                      TV Shows\n",
       "41             Classic & Cult TV"
      ]
     },
     "execution_count": 80,
     "metadata": {},
     "output_type": "execute_result"
    }
   ],
   "source": [
    "df_categories.rename(columns={\"c.name\": \"name\"})"
   ]
  },
  {
   "cell_type": "code",
   "execution_count": 81,
   "id": "66227e5f-293a-4856-a8e8-4915a044e684",
   "metadata": {},
   "outputs": [],
   "source": [
    "df_categories.to_csv('Categories.csv')"
   ]
  },
  {
   "cell_type": "markdown",
   "id": "b8121f72-fb20-4cb8-aab6-4dcd804fed0e",
   "metadata": {},
   "source": [
    "## Movies"
   ]
  },
  {
   "cell_type": "code",
   "execution_count": 407,
   "id": "5119ad79-0360-4d5c-8ab1-5ce88307c6c7",
   "metadata": {},
   "outputs": [],
   "source": [
    "request_movies = \"\"\"\n",
    "MATCH (m:Movie)\n",
    "RETURN m.id, m.title, m.rating, m.release_year, m.date_str, m.year, m.day, m.month, m.description\n",
    "\"\"\"\n",
    "df_movies = graph.run(request_movies).to_data_frame()"
   ]
  },
  {
   "cell_type": "code",
   "execution_count": 409,
   "id": "77c9a68c-be2b-4e17-be19-dc479b71763d",
   "metadata": {},
   "outputs": [
    {
     "data": {
      "text/html": [
       "<div>\n",
       "<style scoped>\n",
       "    .dataframe tbody tr th:only-of-type {\n",
       "        vertical-align: middle;\n",
       "    }\n",
       "\n",
       "    .dataframe tbody tr th {\n",
       "        vertical-align: top;\n",
       "    }\n",
       "\n",
       "    .dataframe thead th {\n",
       "        text-align: right;\n",
       "    }\n",
       "</style>\n",
       "<table border=\"1\" class=\"dataframe\">\n",
       "  <thead>\n",
       "    <tr style=\"text-align: right;\">\n",
       "      <th></th>\n",
       "      <th>m.id</th>\n",
       "      <th>m.title</th>\n",
       "      <th>m.rating</th>\n",
       "      <th>m.release_year</th>\n",
       "      <th>m.date_str</th>\n",
       "      <th>m.year</th>\n",
       "      <th>m.day</th>\n",
       "      <th>m.month</th>\n",
       "      <th>m.description</th>\n",
       "    </tr>\n",
       "  </thead>\n",
       "  <tbody>\n",
       "    <tr>\n",
       "      <th>0</th>\n",
       "      <td>80182597</td>\n",
       "      <td>Krish Trish and Baltiboy: Oversmartness Never ...</td>\n",
       "      <td>TV-Y7</td>\n",
       "      <td>2017</td>\n",
       "      <td>2017-09-08</td>\n",
       "      <td>2017.0</td>\n",
       "      <td>8.0</td>\n",
       "      <td>9.0</td>\n",
       "      <td>A cat, monkey and donkey learn the consequence...</td>\n",
       "    </tr>\n",
       "    <tr>\n",
       "      <th>1</th>\n",
       "      <td>80182481</td>\n",
       "      <td>Krish Trish and Baltiboy: Part II</td>\n",
       "      <td>TV-Y7</td>\n",
       "      <td>2010</td>\n",
       "      <td>2017-09-08</td>\n",
       "      <td>2017.0</td>\n",
       "      <td>8.0</td>\n",
       "      <td>9.0</td>\n",
       "      <td>Animal minstrels narrate stories about a monke...</td>\n",
       "    </tr>\n",
       "    <tr>\n",
       "      <th>2</th>\n",
       "      <td>80182621</td>\n",
       "      <td>Krish Trish and Baltiboy: The Greatest Trick</td>\n",
       "      <td>TV-Y7</td>\n",
       "      <td>2013</td>\n",
       "      <td>2017-09-08</td>\n",
       "      <td>2017.0</td>\n",
       "      <td>8.0</td>\n",
       "      <td>9.0</td>\n",
       "      <td>The consequences of trickery are explored in s...</td>\n",
       "    </tr>\n",
       "    <tr>\n",
       "      <th>3</th>\n",
       "      <td>80057969</td>\n",
       "      <td>Love</td>\n",
       "      <td>NR</td>\n",
       "      <td>2015</td>\n",
       "      <td>2017-09-08</td>\n",
       "      <td>2017.0</td>\n",
       "      <td>8.0</td>\n",
       "      <td>9.0</td>\n",
       "      <td>A man in an unsatisfying marriage recalls the ...</td>\n",
       "    </tr>\n",
       "    <tr>\n",
       "      <th>4</th>\n",
       "      <td>80060297</td>\n",
       "      <td>Manhattan Romance</td>\n",
       "      <td>TV-14</td>\n",
       "      <td>2014</td>\n",
       "      <td>2017-09-08</td>\n",
       "      <td>2017.0</td>\n",
       "      <td>8.0</td>\n",
       "      <td>9.0</td>\n",
       "      <td>A filmmaker working on a documentary about lov...</td>\n",
       "    </tr>\n",
       "  </tbody>\n",
       "</table>\n",
       "</div>"
      ],
      "text/plain": [
       "       m.id                                            m.title m.rating  \\\n",
       "0  80182597  Krish Trish and Baltiboy: Oversmartness Never ...    TV-Y7   \n",
       "1  80182481                  Krish Trish and Baltiboy: Part II    TV-Y7   \n",
       "2  80182621       Krish Trish and Baltiboy: The Greatest Trick    TV-Y7   \n",
       "3  80057969                                               Love       NR   \n",
       "4  80060297                                  Manhattan Romance    TV-14   \n",
       "\n",
       "   m.release_year  m.date_str  m.year  m.day  m.month  \\\n",
       "0            2017  2017-09-08  2017.0    8.0      9.0   \n",
       "1            2010  2017-09-08  2017.0    8.0      9.0   \n",
       "2            2013  2017-09-08  2017.0    8.0      9.0   \n",
       "3            2015  2017-09-08  2017.0    8.0      9.0   \n",
       "4            2014  2017-09-08  2017.0    8.0      9.0   \n",
       "\n",
       "                                       m.description  \n",
       "0  A cat, monkey and donkey learn the consequence...  \n",
       "1  Animal minstrels narrate stories about a monke...  \n",
       "2  The consequences of trickery are explored in s...  \n",
       "3  A man in an unsatisfying marriage recalls the ...  \n",
       "4  A filmmaker working on a documentary about lov...  "
      ]
     },
     "execution_count": 409,
     "metadata": {},
     "output_type": "execute_result"
    }
   ],
   "source": [
    "df_movies.head()"
   ]
  },
  {
   "cell_type": "code",
   "execution_count": 413,
   "id": "a8c239cc-ba0d-4901-a289-e48edef358cc",
   "metadata": {},
   "outputs": [],
   "source": [
    "df_movies = df_movies.rename(columns={'m.id':'id', 'm.title':'title', 'm.rating':'rating', 'm.release_year':'release_year'\n",
    "                  , 'm.date_str':'date_str', 'm.year':'year', 'm.day':'day', 'm.month':'month', \n",
    "                  'm.description':'description'})"
   ]
  },
  {
   "cell_type": "code",
   "execution_count": 414,
   "id": "efd84fd5-6518-4442-851e-2b8db6ffc698",
   "metadata": {},
   "outputs": [
    {
     "data": {
      "text/html": [
       "<div>\n",
       "<style scoped>\n",
       "    .dataframe tbody tr th:only-of-type {\n",
       "        vertical-align: middle;\n",
       "    }\n",
       "\n",
       "    .dataframe tbody tr th {\n",
       "        vertical-align: top;\n",
       "    }\n",
       "\n",
       "    .dataframe thead th {\n",
       "        text-align: right;\n",
       "    }\n",
       "</style>\n",
       "<table border=\"1\" class=\"dataframe\">\n",
       "  <thead>\n",
       "    <tr style=\"text-align: right;\">\n",
       "      <th></th>\n",
       "      <th>id</th>\n",
       "      <th>title</th>\n",
       "      <th>rating</th>\n",
       "      <th>release_year</th>\n",
       "      <th>date_str</th>\n",
       "      <th>year</th>\n",
       "      <th>day</th>\n",
       "      <th>month</th>\n",
       "      <th>description</th>\n",
       "    </tr>\n",
       "  </thead>\n",
       "  <tbody>\n",
       "    <tr>\n",
       "      <th>0</th>\n",
       "      <td>80182597</td>\n",
       "      <td>Krish Trish and Baltiboy: Oversmartness Never ...</td>\n",
       "      <td>TV-Y7</td>\n",
       "      <td>2017</td>\n",
       "      <td>2017-09-08</td>\n",
       "      <td>2017.0</td>\n",
       "      <td>8.0</td>\n",
       "      <td>9.0</td>\n",
       "      <td>A cat, monkey and donkey learn the consequence...</td>\n",
       "    </tr>\n",
       "    <tr>\n",
       "      <th>1</th>\n",
       "      <td>80182481</td>\n",
       "      <td>Krish Trish and Baltiboy: Part II</td>\n",
       "      <td>TV-Y7</td>\n",
       "      <td>2010</td>\n",
       "      <td>2017-09-08</td>\n",
       "      <td>2017.0</td>\n",
       "      <td>8.0</td>\n",
       "      <td>9.0</td>\n",
       "      <td>Animal minstrels narrate stories about a monke...</td>\n",
       "    </tr>\n",
       "    <tr>\n",
       "      <th>2</th>\n",
       "      <td>80182621</td>\n",
       "      <td>Krish Trish and Baltiboy: The Greatest Trick</td>\n",
       "      <td>TV-Y7</td>\n",
       "      <td>2013</td>\n",
       "      <td>2017-09-08</td>\n",
       "      <td>2017.0</td>\n",
       "      <td>8.0</td>\n",
       "      <td>9.0</td>\n",
       "      <td>The consequences of trickery are explored in s...</td>\n",
       "    </tr>\n",
       "    <tr>\n",
       "      <th>3</th>\n",
       "      <td>80057969</td>\n",
       "      <td>Love</td>\n",
       "      <td>NR</td>\n",
       "      <td>2015</td>\n",
       "      <td>2017-09-08</td>\n",
       "      <td>2017.0</td>\n",
       "      <td>8.0</td>\n",
       "      <td>9.0</td>\n",
       "      <td>A man in an unsatisfying marriage recalls the ...</td>\n",
       "    </tr>\n",
       "    <tr>\n",
       "      <th>4</th>\n",
       "      <td>80060297</td>\n",
       "      <td>Manhattan Romance</td>\n",
       "      <td>TV-14</td>\n",
       "      <td>2014</td>\n",
       "      <td>2017-09-08</td>\n",
       "      <td>2017.0</td>\n",
       "      <td>8.0</td>\n",
       "      <td>9.0</td>\n",
       "      <td>A filmmaker working on a documentary about lov...</td>\n",
       "    </tr>\n",
       "  </tbody>\n",
       "</table>\n",
       "</div>"
      ],
      "text/plain": [
       "         id                                              title rating  \\\n",
       "0  80182597  Krish Trish and Baltiboy: Oversmartness Never ...  TV-Y7   \n",
       "1  80182481                  Krish Trish and Baltiboy: Part II  TV-Y7   \n",
       "2  80182621       Krish Trish and Baltiboy: The Greatest Trick  TV-Y7   \n",
       "3  80057969                                               Love     NR   \n",
       "4  80060297                                  Manhattan Romance  TV-14   \n",
       "\n",
       "   release_year    date_str    year  day  month  \\\n",
       "0          2017  2017-09-08  2017.0  8.0    9.0   \n",
       "1          2010  2017-09-08  2017.0  8.0    9.0   \n",
       "2          2013  2017-09-08  2017.0  8.0    9.0   \n",
       "3          2015  2017-09-08  2017.0  8.0    9.0   \n",
       "4          2014  2017-09-08  2017.0  8.0    9.0   \n",
       "\n",
       "                                         description  \n",
       "0  A cat, monkey and donkey learn the consequence...  \n",
       "1  Animal minstrels narrate stories about a monke...  \n",
       "2  The consequences of trickery are explored in s...  \n",
       "3  A man in an unsatisfying marriage recalls the ...  \n",
       "4  A filmmaker working on a documentary about lov...  "
      ]
     },
     "execution_count": 414,
     "metadata": {},
     "output_type": "execute_result"
    }
   ],
   "source": [
    "df_movies.head()"
   ]
  },
  {
   "cell_type": "code",
   "execution_count": 428,
   "id": "9f8f4441-1550-4915-92f6-9879dab6a701",
   "metadata": {},
   "outputs": [],
   "source": [
    "df_movies.to_csv('Movies.csv', index=False)"
   ]
  },
  {
   "cell_type": "markdown",
   "id": "2ef70d1b-171e-45b2-ad30-ce608f0d4735",
   "metadata": {
    "tags": []
   },
   "source": [
    "# Tables intermédiaires"
   ]
  },
  {
   "cell_type": "markdown",
   "id": "0e7b8ec3-8821-4bfe-8c3c-6ec36a41ce0f",
   "metadata": {
    "tags": []
   },
   "source": [
    "## Movies et Actors"
   ]
  },
  {
   "cell_type": "code",
   "execution_count": 82,
   "id": "679af316-93d8-457f-b964-b73433279be8",
   "metadata": {},
   "outputs": [],
   "source": [
    "request_movies_actor = \"\"\"\n",
    "MATCH (p:Person)-[rel:ACTED_IN]->(m:Movie)\n",
    "RETURN p.name, m.title, m.id\n",
    "\"\"\"\n",
    "df_ma = graph.run(request_movies_actor).to_data_frame()"
   ]
  },
  {
   "cell_type": "code",
   "execution_count": 83,
   "id": "82d5d3e1-5ac0-49b0-8fbb-13ff8c95f81b",
   "metadata": {},
   "outputs": [
    {
     "data": {
      "text/html": [
       "<div>\n",
       "<style scoped>\n",
       "    .dataframe tbody tr th:only-of-type {\n",
       "        vertical-align: middle;\n",
       "    }\n",
       "\n",
       "    .dataframe tbody tr th {\n",
       "        vertical-align: top;\n",
       "    }\n",
       "\n",
       "    .dataframe thead th {\n",
       "        text-align: right;\n",
       "    }\n",
       "</style>\n",
       "<table border=\"1\" class=\"dataframe\">\n",
       "  <thead>\n",
       "    <tr style=\"text-align: right;\">\n",
       "      <th></th>\n",
       "      <th>p.name</th>\n",
       "      <th>m.title</th>\n",
       "      <th>m.id</th>\n",
       "    </tr>\n",
       "  </thead>\n",
       "  <tbody>\n",
       "    <tr>\n",
       "      <th>0</th>\n",
       "      <td>Deepak Chachra</td>\n",
       "      <td>Krish Trish and Baltiboy: Oversmartness Never ...</td>\n",
       "      <td>80182597</td>\n",
       "    </tr>\n",
       "    <tr>\n",
       "      <th>1</th>\n",
       "      <td>Rishi Gambhir</td>\n",
       "      <td>Krish Trish and Baltiboy: Oversmartness Never ...</td>\n",
       "      <td>80182597</td>\n",
       "    </tr>\n",
       "    <tr>\n",
       "      <th>2</th>\n",
       "      <td>Smita Malhotra</td>\n",
       "      <td>Krish Trish and Baltiboy: Oversmartness Never ...</td>\n",
       "      <td>80182597</td>\n",
       "    </tr>\n",
       "    <tr>\n",
       "      <th>3</th>\n",
       "      <td>Damandeep Singh Baggan</td>\n",
       "      <td>Krish Trish and Baltiboy: Part II</td>\n",
       "      <td>80182481</td>\n",
       "    </tr>\n",
       "    <tr>\n",
       "      <th>4</th>\n",
       "      <td>Baba Sehgal</td>\n",
       "      <td>Krish Trish and Baltiboy: Part II</td>\n",
       "      <td>80182481</td>\n",
       "    </tr>\n",
       "  </tbody>\n",
       "</table>\n",
       "</div>"
      ],
      "text/plain": [
       "                   p.name                                            m.title  \\\n",
       "0          Deepak Chachra  Krish Trish and Baltiboy: Oversmartness Never ...   \n",
       "1           Rishi Gambhir  Krish Trish and Baltiboy: Oversmartness Never ...   \n",
       "2          Smita Malhotra  Krish Trish and Baltiboy: Oversmartness Never ...   \n",
       "3  Damandeep Singh Baggan                  Krish Trish and Baltiboy: Part II   \n",
       "4             Baba Sehgal                  Krish Trish and Baltiboy: Part II   \n",
       "\n",
       "       m.id  \n",
       "0  80182597  \n",
       "1  80182597  \n",
       "2  80182597  \n",
       "3  80182481  \n",
       "4  80182481  "
      ]
     },
     "execution_count": 83,
     "metadata": {},
     "output_type": "execute_result"
    }
   ],
   "source": [
    "df_ma.head()"
   ]
  },
  {
   "cell_type": "code",
   "execution_count": 84,
   "id": "2afd8895-a140-40c3-8666-27d4e441dbfe",
   "metadata": {},
   "outputs": [
    {
     "data": {
      "text/html": [
       "<div>\n",
       "<style scoped>\n",
       "    .dataframe tbody tr th:only-of-type {\n",
       "        vertical-align: middle;\n",
       "    }\n",
       "\n",
       "    .dataframe tbody tr th {\n",
       "        vertical-align: top;\n",
       "    }\n",
       "\n",
       "    .dataframe thead th {\n",
       "        text-align: right;\n",
       "    }\n",
       "</style>\n",
       "<table border=\"1\" class=\"dataframe\">\n",
       "  <thead>\n",
       "    <tr style=\"text-align: right;\">\n",
       "      <th></th>\n",
       "      <th>name</th>\n",
       "    </tr>\n",
       "  </thead>\n",
       "  <tbody>\n",
       "    <tr>\n",
       "      <th>0</th>\n",
       "      <td>Tilak Shetty</td>\n",
       "    </tr>\n",
       "    <tr>\n",
       "      <th>1</th>\n",
       "      <td>Deepak Chachra</td>\n",
       "    </tr>\n",
       "    <tr>\n",
       "      <th>2</th>\n",
       "      <td>Rishi Gambhir</td>\n",
       "    </tr>\n",
       "    <tr>\n",
       "      <th>3</th>\n",
       "      <td>Smita Malhotra</td>\n",
       "    </tr>\n",
       "    <tr>\n",
       "      <th>4</th>\n",
       "      <td>Damandeep Singh Baggan</td>\n",
       "    </tr>\n",
       "  </tbody>\n",
       "</table>\n",
       "</div>"
      ],
      "text/plain": [
       "                     name\n",
       "0            Tilak Shetty\n",
       "1          Deepak Chachra\n",
       "2           Rishi Gambhir\n",
       "3          Smita Malhotra\n",
       "4  Damandeep Singh Baggan"
      ]
     },
     "execution_count": 84,
     "metadata": {},
     "output_type": "execute_result"
    }
   ],
   "source": [
    "df_person.head()"
   ]
  },
  {
   "cell_type": "code",
   "execution_count": 85,
   "id": "1adef309-a71a-47b5-88ee-6271eb1a9c8a",
   "metadata": {},
   "outputs": [],
   "source": [
    "def change_value_of_name(df) :\n",
    "    for i in range(len(df)) :\n",
    "        s = df.loc[i, \"p.name\"]\n",
    "        id_person = get_id_by_value(s, df_table_persons)\n",
    "        if id_person is not None :\n",
    "            df.loc[i, \"id\"] = id_person"
   ]
  },
  {
   "cell_type": "code",
   "execution_count": 86,
   "id": "000b1094-e2bc-4c1a-805e-14872c341eb5",
   "metadata": {},
   "outputs": [],
   "source": [
    "def get_id_by_value(value, df) :\n",
    "    s = value.split(\" \")\n",
    "    if len(s) < 3 and len(s) > 1:\n",
    "        index_fn = df.index[df['first_name'] == s[0]].tolist()\n",
    "        index_ln = df.index[df['last_name'] == s[1]].tolist()\n",
    "        ret = []\n",
    "        for i in index_fn :\n",
    "            if i in index_ln :\n",
    "                ret.append(i)\n",
    "        return ret\n",
    "    else :\n",
    "        return None"
   ]
  },
  {
   "cell_type": "code",
   "execution_count": 87,
   "id": "9aac3ff1-b16d-4a35-ab1d-102efabf3eb8",
   "metadata": {},
   "outputs": [
    {
     "data": {
      "text/plain": [
       "[5362]"
      ]
     },
     "execution_count": 87,
     "metadata": {},
     "output_type": "execute_result"
    }
   ],
   "source": [
    "get_id_by_value(\"Michael Dobson\", df_table_persons)"
   ]
  },
  {
   "cell_type": "code",
   "execution_count": 88,
   "id": "783633da-1ec3-4745-b887-1c92896f09d3",
   "metadata": {},
   "outputs": [],
   "source": [
    "test = df_ma.copy()"
   ]
  },
  {
   "cell_type": "code",
   "execution_count": 89,
   "id": "0f8c05d6-a39d-49bc-bd0c-757a8b254db3",
   "metadata": {
    "tags": []
   },
   "outputs": [],
   "source": [
    "change_value_of_name(test)"
   ]
  },
  {
   "cell_type": "code",
   "execution_count": 90,
   "id": "53758236-bb56-491f-b0ed-21027c54dd89",
   "metadata": {},
   "outputs": [
    {
     "data": {
      "text/html": [
       "<div>\n",
       "<style scoped>\n",
       "    .dataframe tbody tr th:only-of-type {\n",
       "        vertical-align: middle;\n",
       "    }\n",
       "\n",
       "    .dataframe tbody tr th {\n",
       "        vertical-align: top;\n",
       "    }\n",
       "\n",
       "    .dataframe thead th {\n",
       "        text-align: right;\n",
       "    }\n",
       "</style>\n",
       "<table border=\"1\" class=\"dataframe\">\n",
       "  <thead>\n",
       "    <tr style=\"text-align: right;\">\n",
       "      <th></th>\n",
       "      <th>p.name</th>\n",
       "      <th>m.title</th>\n",
       "      <th>m.id</th>\n",
       "      <th>id</th>\n",
       "    </tr>\n",
       "  </thead>\n",
       "  <tbody>\n",
       "    <tr>\n",
       "      <th>0</th>\n",
       "      <td>Deepak Chachra</td>\n",
       "      <td>Krish Trish and Baltiboy: Oversmartness Never ...</td>\n",
       "      <td>80182597</td>\n",
       "      <td>1.0</td>\n",
       "    </tr>\n",
       "    <tr>\n",
       "      <th>1</th>\n",
       "      <td>Rishi Gambhir</td>\n",
       "      <td>Krish Trish and Baltiboy: Oversmartness Never ...</td>\n",
       "      <td>80182597</td>\n",
       "      <td>2.0</td>\n",
       "    </tr>\n",
       "    <tr>\n",
       "      <th>2</th>\n",
       "      <td>Smita Malhotra</td>\n",
       "      <td>Krish Trish and Baltiboy: Oversmartness Never ...</td>\n",
       "      <td>80182597</td>\n",
       "      <td>3.0</td>\n",
       "    </tr>\n",
       "    <tr>\n",
       "      <th>3</th>\n",
       "      <td>Damandeep Singh Baggan</td>\n",
       "      <td>Krish Trish and Baltiboy: Part II</td>\n",
       "      <td>80182481</td>\n",
       "      <td>NaN</td>\n",
       "    </tr>\n",
       "    <tr>\n",
       "      <th>4</th>\n",
       "      <td>Baba Sehgal</td>\n",
       "      <td>Krish Trish and Baltiboy: Part II</td>\n",
       "      <td>80182481</td>\n",
       "      <td>4.0</td>\n",
       "    </tr>\n",
       "    <tr>\n",
       "      <th>...</th>\n",
       "      <td>...</td>\n",
       "      <td>...</td>\n",
       "      <td>...</td>\n",
       "      <td>...</td>\n",
       "    </tr>\n",
       "    <tr>\n",
       "      <th>44305</th>\n",
       "      <td>Damandeep Singh Baggan</td>\n",
       "      <td>Krish Trish and Baltiboy: Best Friends Forever</td>\n",
       "      <td>80182596</td>\n",
       "      <td>NaN</td>\n",
       "    </tr>\n",
       "    <tr>\n",
       "      <th>44306</th>\n",
       "      <td>Smita Malhotra</td>\n",
       "      <td>Krish Trish and Baltiboy: Best Friends Forever</td>\n",
       "      <td>80182596</td>\n",
       "      <td>3.0</td>\n",
       "    </tr>\n",
       "    <tr>\n",
       "      <th>44307</th>\n",
       "      <td>Smita Malhotra</td>\n",
       "      <td>Krish Trish and Baltiboy: Comics of India</td>\n",
       "      <td>80182482</td>\n",
       "      <td>3.0</td>\n",
       "    </tr>\n",
       "    <tr>\n",
       "      <th>44308</th>\n",
       "      <td>Damandeep Singh Baggan</td>\n",
       "      <td>Krish Trish and Baltiboy: Comics of India</td>\n",
       "      <td>80182482</td>\n",
       "      <td>NaN</td>\n",
       "    </tr>\n",
       "    <tr>\n",
       "      <th>44309</th>\n",
       "      <td>Baba Sehgal</td>\n",
       "      <td>Krish Trish and Baltiboy: Comics of India</td>\n",
       "      <td>80182482</td>\n",
       "      <td>4.0</td>\n",
       "    </tr>\n",
       "  </tbody>\n",
       "</table>\n",
       "<p>44310 rows × 4 columns</p>\n",
       "</div>"
      ],
      "text/plain": [
       "                       p.name  \\\n",
       "0              Deepak Chachra   \n",
       "1               Rishi Gambhir   \n",
       "2              Smita Malhotra   \n",
       "3      Damandeep Singh Baggan   \n",
       "4                 Baba Sehgal   \n",
       "...                       ...   \n",
       "44305  Damandeep Singh Baggan   \n",
       "44306          Smita Malhotra   \n",
       "44307          Smita Malhotra   \n",
       "44308  Damandeep Singh Baggan   \n",
       "44309             Baba Sehgal   \n",
       "\n",
       "                                                 m.title      m.id   id  \n",
       "0      Krish Trish and Baltiboy: Oversmartness Never ...  80182597  1.0  \n",
       "1      Krish Trish and Baltiboy: Oversmartness Never ...  80182597  2.0  \n",
       "2      Krish Trish and Baltiboy: Oversmartness Never ...  80182597  3.0  \n",
       "3                      Krish Trish and Baltiboy: Part II  80182481  NaN  \n",
       "4                      Krish Trish and Baltiboy: Part II  80182481  4.0  \n",
       "...                                                  ...       ...  ...  \n",
       "44305     Krish Trish and Baltiboy: Best Friends Forever  80182596  NaN  \n",
       "44306     Krish Trish and Baltiboy: Best Friends Forever  80182596  3.0  \n",
       "44307          Krish Trish and Baltiboy: Comics of India  80182482  3.0  \n",
       "44308          Krish Trish and Baltiboy: Comics of India  80182482  NaN  \n",
       "44309          Krish Trish and Baltiboy: Comics of India  80182482  4.0  \n",
       "\n",
       "[44310 rows x 4 columns]"
      ]
     },
     "execution_count": 90,
     "metadata": {},
     "output_type": "execute_result"
    }
   ],
   "source": [
    "test"
   ]
  },
  {
   "cell_type": "code",
   "execution_count": 91,
   "id": "a4786f10-4a7e-43f4-a09c-cf5f4034c787",
   "metadata": {},
   "outputs": [],
   "source": [
    "test2 = test.copy()"
   ]
  },
  {
   "cell_type": "code",
   "execution_count": 92,
   "id": "0a33c84d-1032-481f-8967-2e544afbd0bc",
   "metadata": {},
   "outputs": [],
   "source": [
    "test2.drop(['p.name','m.title'], axis=1, inplace=True)"
   ]
  },
  {
   "cell_type": "code",
   "execution_count": 93,
   "id": "0683eec3-9370-4b83-9a38-56c40db46f92",
   "metadata": {},
   "outputs": [],
   "source": [
    "test2 = test2.rename(columns={'m.id':'movies_id', 'id':'persons_id'})"
   ]
  },
  {
   "cell_type": "code",
   "execution_count": 94,
   "id": "7cdfeae5-489a-4b11-8f13-5b6abed8fe2a",
   "metadata": {},
   "outputs": [],
   "source": [
    "test2.dropna(subset = [\"persons_id\"], inplace=True)"
   ]
  },
  {
   "cell_type": "code",
   "execution_count": 95,
   "id": "5fd44056-6ae2-4153-a99f-68f33570492b",
   "metadata": {},
   "outputs": [
    {
     "name": "stdout",
     "output_type": "stream",
     "text": [
      "       movies_id  persons_id\n",
      "0       80182597         1.0\n",
      "1       80182597         2.0\n",
      "2       80182597         3.0\n",
      "4       80182481         4.0\n",
      "5       80182481         3.0\n",
      "...          ...         ...\n",
      "44303   80182483         3.0\n",
      "44304   80182596         1.0\n",
      "44306   80182596         3.0\n",
      "44307   80182482         3.0\n",
      "44309   80182482         4.0\n",
      "\n",
      "[40363 rows x 2 columns]\n"
     ]
    }
   ],
   "source": [
    "print(test2)"
   ]
  },
  {
   "cell_type": "code",
   "execution_count": 96,
   "id": "a8342a95-43b6-4eff-8309-91215fe2807c",
   "metadata": {},
   "outputs": [],
   "source": [
    "test2['persons_id'] = test2['persons_id'].astype(int)"
   ]
  },
  {
   "cell_type": "code",
   "execution_count": 97,
   "id": "6d9a1a1d-a0f3-4e1c-b330-9c6afb6a02bd",
   "metadata": {},
   "outputs": [
    {
     "data": {
      "text/html": [
       "<div>\n",
       "<style scoped>\n",
       "    .dataframe tbody tr th:only-of-type {\n",
       "        vertical-align: middle;\n",
       "    }\n",
       "\n",
       "    .dataframe tbody tr th {\n",
       "        vertical-align: top;\n",
       "    }\n",
       "\n",
       "    .dataframe thead th {\n",
       "        text-align: right;\n",
       "    }\n",
       "</style>\n",
       "<table border=\"1\" class=\"dataframe\">\n",
       "  <thead>\n",
       "    <tr style=\"text-align: right;\">\n",
       "      <th></th>\n",
       "      <th>movies_id</th>\n",
       "      <th>persons_id</th>\n",
       "    </tr>\n",
       "  </thead>\n",
       "  <tbody>\n",
       "    <tr>\n",
       "      <th>0</th>\n",
       "      <td>80182597</td>\n",
       "      <td>1</td>\n",
       "    </tr>\n",
       "    <tr>\n",
       "      <th>1</th>\n",
       "      <td>80182597</td>\n",
       "      <td>2</td>\n",
       "    </tr>\n",
       "    <tr>\n",
       "      <th>2</th>\n",
       "      <td>80182597</td>\n",
       "      <td>3</td>\n",
       "    </tr>\n",
       "    <tr>\n",
       "      <th>4</th>\n",
       "      <td>80182481</td>\n",
       "      <td>4</td>\n",
       "    </tr>\n",
       "    <tr>\n",
       "      <th>5</th>\n",
       "      <td>80182481</td>\n",
       "      <td>3</td>\n",
       "    </tr>\n",
       "    <tr>\n",
       "      <th>...</th>\n",
       "      <td>...</td>\n",
       "      <td>...</td>\n",
       "    </tr>\n",
       "    <tr>\n",
       "      <th>44303</th>\n",
       "      <td>80182483</td>\n",
       "      <td>3</td>\n",
       "    </tr>\n",
       "    <tr>\n",
       "      <th>44304</th>\n",
       "      <td>80182596</td>\n",
       "      <td>1</td>\n",
       "    </tr>\n",
       "    <tr>\n",
       "      <th>44306</th>\n",
       "      <td>80182596</td>\n",
       "      <td>3</td>\n",
       "    </tr>\n",
       "    <tr>\n",
       "      <th>44307</th>\n",
       "      <td>80182482</td>\n",
       "      <td>3</td>\n",
       "    </tr>\n",
       "    <tr>\n",
       "      <th>44309</th>\n",
       "      <td>80182482</td>\n",
       "      <td>4</td>\n",
       "    </tr>\n",
       "  </tbody>\n",
       "</table>\n",
       "<p>40363 rows × 2 columns</p>\n",
       "</div>"
      ],
      "text/plain": [
       "       movies_id  persons_id\n",
       "0       80182597           1\n",
       "1       80182597           2\n",
       "2       80182597           3\n",
       "4       80182481           4\n",
       "5       80182481           3\n",
       "...          ...         ...\n",
       "44303   80182483           3\n",
       "44304   80182596           1\n",
       "44306   80182596           3\n",
       "44307   80182482           3\n",
       "44309   80182482           4\n",
       "\n",
       "[40363 rows x 2 columns]"
      ]
     },
     "execution_count": 97,
     "metadata": {},
     "output_type": "execute_result"
    }
   ],
   "source": [
    "test2"
   ]
  },
  {
   "cell_type": "code",
   "execution_count": 98,
   "id": "ff50f2d7-c8ea-440a-a899-b00341a47dd2",
   "metadata": {},
   "outputs": [
    {
     "data": {
      "text/plain": [
       "False"
      ]
     },
     "execution_count": 98,
     "metadata": {},
     "output_type": "execute_result"
    }
   ],
   "source": [
    "test2['persons_id'].isnull().values.any()"
   ]
  },
  {
   "cell_type": "code",
   "execution_count": 99,
   "id": "b453e13f-efcf-46c2-93fb-0f1ab7543ead",
   "metadata": {},
   "outputs": [],
   "source": [
    "df_actors = test2.reset_index(drop=True)"
   ]
  },
  {
   "cell_type": "code",
   "execution_count": 100,
   "id": "d7a2224c-77ab-4d3e-94d2-f57583a48ccf",
   "metadata": {},
   "outputs": [
    {
     "data": {
      "text/html": [
       "<div>\n",
       "<style scoped>\n",
       "    .dataframe tbody tr th:only-of-type {\n",
       "        vertical-align: middle;\n",
       "    }\n",
       "\n",
       "    .dataframe tbody tr th {\n",
       "        vertical-align: top;\n",
       "    }\n",
       "\n",
       "    .dataframe thead th {\n",
       "        text-align: right;\n",
       "    }\n",
       "</style>\n",
       "<table border=\"1\" class=\"dataframe\">\n",
       "  <thead>\n",
       "    <tr style=\"text-align: right;\">\n",
       "      <th></th>\n",
       "      <th>movies_id</th>\n",
       "      <th>persons_id</th>\n",
       "    </tr>\n",
       "  </thead>\n",
       "  <tbody>\n",
       "    <tr>\n",
       "      <th>0</th>\n",
       "      <td>80182597</td>\n",
       "      <td>1</td>\n",
       "    </tr>\n",
       "    <tr>\n",
       "      <th>1</th>\n",
       "      <td>80182597</td>\n",
       "      <td>2</td>\n",
       "    </tr>\n",
       "    <tr>\n",
       "      <th>2</th>\n",
       "      <td>80182597</td>\n",
       "      <td>3</td>\n",
       "    </tr>\n",
       "    <tr>\n",
       "      <th>3</th>\n",
       "      <td>80182481</td>\n",
       "      <td>4</td>\n",
       "    </tr>\n",
       "    <tr>\n",
       "      <th>4</th>\n",
       "      <td>80182481</td>\n",
       "      <td>3</td>\n",
       "    </tr>\n",
       "    <tr>\n",
       "      <th>...</th>\n",
       "      <td>...</td>\n",
       "      <td>...</td>\n",
       "    </tr>\n",
       "    <tr>\n",
       "      <th>40358</th>\n",
       "      <td>80182483</td>\n",
       "      <td>3</td>\n",
       "    </tr>\n",
       "    <tr>\n",
       "      <th>40359</th>\n",
       "      <td>80182596</td>\n",
       "      <td>1</td>\n",
       "    </tr>\n",
       "    <tr>\n",
       "      <th>40360</th>\n",
       "      <td>80182596</td>\n",
       "      <td>3</td>\n",
       "    </tr>\n",
       "    <tr>\n",
       "      <th>40361</th>\n",
       "      <td>80182482</td>\n",
       "      <td>3</td>\n",
       "    </tr>\n",
       "    <tr>\n",
       "      <th>40362</th>\n",
       "      <td>80182482</td>\n",
       "      <td>4</td>\n",
       "    </tr>\n",
       "  </tbody>\n",
       "</table>\n",
       "<p>40363 rows × 2 columns</p>\n",
       "</div>"
      ],
      "text/plain": [
       "       movies_id  persons_id\n",
       "0       80182597           1\n",
       "1       80182597           2\n",
       "2       80182597           3\n",
       "3       80182481           4\n",
       "4       80182481           3\n",
       "...          ...         ...\n",
       "40358   80182483           3\n",
       "40359   80182596           1\n",
       "40360   80182596           3\n",
       "40361   80182482           3\n",
       "40362   80182482           4\n",
       "\n",
       "[40363 rows x 2 columns]"
      ]
     },
     "execution_count": 100,
     "metadata": {},
     "output_type": "execute_result"
    }
   ],
   "source": [
    "df_actors"
   ]
  },
  {
   "cell_type": "code",
   "execution_count": 435,
   "id": "95699be6-f3a2-4c96-bc27-eb5a0739756e",
   "metadata": {},
   "outputs": [],
   "source": [
    "df_actors.to_csv('Movies_Actors.csv', index = False)"
   ]
  },
  {
   "cell_type": "markdown",
   "id": "529a0863-331c-4cae-adac-9ba3e8ba963d",
   "metadata": {},
   "source": [
    "## Movies et Directors"
   ]
  },
  {
   "cell_type": "code",
   "execution_count": 182,
   "id": "c6d471c3-d59c-42e7-9d8d-2641289e3c84",
   "metadata": {},
   "outputs": [],
   "source": [
    "request_movies_director = \"\"\"\n",
    "MATCH (p:Person)-[rel:DIRECTED]->(m:Movie)\n",
    "RETURN p.name, m.id\n",
    "\"\"\"\n",
    "df_md = graph.run(request_movies_director).to_data_frame()"
   ]
  },
  {
   "cell_type": "code",
   "execution_count": 183,
   "id": "42cec355-3b4f-430c-a7b6-f15897f54f6f",
   "metadata": {},
   "outputs": [
    {
     "data": {
      "text/html": [
       "<div>\n",
       "<style scoped>\n",
       "    .dataframe tbody tr th:only-of-type {\n",
       "        vertical-align: middle;\n",
       "    }\n",
       "\n",
       "    .dataframe tbody tr th {\n",
       "        vertical-align: top;\n",
       "    }\n",
       "\n",
       "    .dataframe thead th {\n",
       "        text-align: right;\n",
       "    }\n",
       "</style>\n",
       "<table border=\"1\" class=\"dataframe\">\n",
       "  <thead>\n",
       "    <tr style=\"text-align: right;\">\n",
       "      <th></th>\n",
       "      <th>p.name</th>\n",
       "      <th>m.id</th>\n",
       "    </tr>\n",
       "  </thead>\n",
       "  <tbody>\n",
       "    <tr>\n",
       "      <th>0</th>\n",
       "      <td>Tilak Shetty</td>\n",
       "      <td>80182597</td>\n",
       "    </tr>\n",
       "    <tr>\n",
       "      <th>1</th>\n",
       "      <td>Munjal Shroff, Tilak Shetty</td>\n",
       "      <td>80182621</td>\n",
       "    </tr>\n",
       "    <tr>\n",
       "      <th>2</th>\n",
       "      <td>Gaspar Noé</td>\n",
       "      <td>80057969</td>\n",
       "    </tr>\n",
       "    <tr>\n",
       "      <th>3</th>\n",
       "      <td>Tom O'Brien</td>\n",
       "      <td>80060297</td>\n",
       "    </tr>\n",
       "    <tr>\n",
       "      <th>4</th>\n",
       "      <td>Antoine Bardou-Jacquet</td>\n",
       "      <td>80046728</td>\n",
       "    </tr>\n",
       "  </tbody>\n",
       "</table>\n",
       "</div>"
      ],
      "text/plain": [
       "                        p.name      m.id\n",
       "0                 Tilak Shetty  80182597\n",
       "1  Munjal Shroff, Tilak Shetty  80182621\n",
       "2                   Gaspar Noé  80057969\n",
       "3                  Tom O'Brien  80060297\n",
       "4       Antoine Bardou-Jacquet  80046728"
      ]
     },
     "execution_count": 183,
     "metadata": {},
     "output_type": "execute_result"
    }
   ],
   "source": [
    "df_md.head()"
   ]
  },
  {
   "cell_type": "code",
   "execution_count": 184,
   "id": "9d2565b2-93c8-4268-87a9-c42c74a6f7ec",
   "metadata": {},
   "outputs": [],
   "source": [
    "def treatment_for_directors(df) :\n",
    "    data = []\n",
    "    for row in range(len(df)):\n",
    "        name = df.loc[row, 'p.name']\n",
    "        movie = df.loc[row, 'm.id']\n",
    "        df.drop(row, inplace=True)\n",
    "        names = name.split(', ')\n",
    "        for n in names :\n",
    "            data.append({'p.name': n, 'm.id': movie})\n",
    "    return data"
   ]
  },
  {
   "cell_type": "code",
   "execution_count": 185,
   "id": "399c657a-075a-441d-aba4-5663d32ccf1a",
   "metadata": {},
   "outputs": [
    {
     "data": {
      "text/plain": [
       "['Munjal Shroff', 'Tilak Shetty']"
      ]
     },
     "execution_count": 185,
     "metadata": {},
     "output_type": "execute_result"
    }
   ],
   "source": [
    "df_md.loc[4262, 'p.name'].split(', ')"
   ]
  },
  {
   "cell_type": "code",
   "execution_count": 186,
   "id": "51e6d7c2-7273-44e8-bbba-204fc3f010df",
   "metadata": {},
   "outputs": [],
   "source": [
    "data = treatment_for_directors(df_md)"
   ]
  },
  {
   "cell_type": "code",
   "execution_count": 187,
   "id": "5614ae39-8792-4f74-b76b-108d6e7059d5",
   "metadata": {
    "tags": []
   },
   "outputs": [],
   "source": [
    "df_directors = pd.DataFrame(data=data)"
   ]
  },
  {
   "cell_type": "code",
   "execution_count": 188,
   "id": "b1beb84d-9834-42b5-a4c9-ae29f8f2c8e1",
   "metadata": {},
   "outputs": [
    {
     "data": {
      "text/html": [
       "<div>\n",
       "<style scoped>\n",
       "    .dataframe tbody tr th:only-of-type {\n",
       "        vertical-align: middle;\n",
       "    }\n",
       "\n",
       "    .dataframe tbody tr th {\n",
       "        vertical-align: top;\n",
       "    }\n",
       "\n",
       "    .dataframe thead th {\n",
       "        text-align: right;\n",
       "    }\n",
       "</style>\n",
       "<table border=\"1\" class=\"dataframe\">\n",
       "  <thead>\n",
       "    <tr style=\"text-align: right;\">\n",
       "      <th></th>\n",
       "      <th>p.name</th>\n",
       "      <th>m.id</th>\n",
       "    </tr>\n",
       "  </thead>\n",
       "  <tbody>\n",
       "    <tr>\n",
       "      <th>0</th>\n",
       "      <td>Tilak Shetty</td>\n",
       "      <td>80182597</td>\n",
       "    </tr>\n",
       "    <tr>\n",
       "      <th>1</th>\n",
       "      <td>Munjal Shroff</td>\n",
       "      <td>80182621</td>\n",
       "    </tr>\n",
       "    <tr>\n",
       "      <th>2</th>\n",
       "      <td>Tilak Shetty</td>\n",
       "      <td>80182621</td>\n",
       "    </tr>\n",
       "    <tr>\n",
       "      <th>3</th>\n",
       "      <td>Gaspar Noé</td>\n",
       "      <td>80057969</td>\n",
       "    </tr>\n",
       "    <tr>\n",
       "      <th>4</th>\n",
       "      <td>Tom O'Brien</td>\n",
       "      <td>80060297</td>\n",
       "    </tr>\n",
       "    <tr>\n",
       "      <th>...</th>\n",
       "      <td>...</td>\n",
       "      <td>...</td>\n",
       "    </tr>\n",
       "    <tr>\n",
       "      <th>4847</th>\n",
       "      <td>Munjal Shroff</td>\n",
       "      <td>80182483</td>\n",
       "    </tr>\n",
       "    <tr>\n",
       "      <th>4848</th>\n",
       "      <td>Tilak Shetty</td>\n",
       "      <td>80182483</td>\n",
       "    </tr>\n",
       "    <tr>\n",
       "      <th>4849</th>\n",
       "      <td>Munjal Shroff</td>\n",
       "      <td>80182596</td>\n",
       "    </tr>\n",
       "    <tr>\n",
       "      <th>4850</th>\n",
       "      <td>Tilak Shetty</td>\n",
       "      <td>80182596</td>\n",
       "    </tr>\n",
       "    <tr>\n",
       "      <th>4851</th>\n",
       "      <td>Tilak Shetty</td>\n",
       "      <td>80182482</td>\n",
       "    </tr>\n",
       "  </tbody>\n",
       "</table>\n",
       "<p>4852 rows × 2 columns</p>\n",
       "</div>"
      ],
      "text/plain": [
       "             p.name      m.id\n",
       "0      Tilak Shetty  80182597\n",
       "1     Munjal Shroff  80182621\n",
       "2      Tilak Shetty  80182621\n",
       "3        Gaspar Noé  80057969\n",
       "4       Tom O'Brien  80060297\n",
       "...             ...       ...\n",
       "4847  Munjal Shroff  80182483\n",
       "4848   Tilak Shetty  80182483\n",
       "4849  Munjal Shroff  80182596\n",
       "4850   Tilak Shetty  80182596\n",
       "4851   Tilak Shetty  80182482\n",
       "\n",
       "[4852 rows x 2 columns]"
      ]
     },
     "execution_count": 188,
     "metadata": {},
     "output_type": "execute_result"
    }
   ],
   "source": [
    "df_directors"
   ]
  },
  {
   "cell_type": "code",
   "execution_count": 189,
   "id": "cdae3d04-0fd0-411c-89fb-fb425d3ba93b",
   "metadata": {},
   "outputs": [
    {
     "data": {
      "text/plain": [
       "[16]"
      ]
     },
     "execution_count": 189,
     "metadata": {},
     "output_type": "execute_result"
    }
   ],
   "source": [
    "get_id_by_value(\"Tom O'Brien\", df_table_persons)"
   ]
  },
  {
   "cell_type": "code",
   "execution_count": 190,
   "id": "f2c5f654-ca8a-426b-86cb-a680e5ed551f",
   "metadata": {},
   "outputs": [
    {
     "data": {
      "text/plain": [
       "False"
      ]
     },
     "execution_count": 190,
     "metadata": {},
     "output_type": "execute_result"
    }
   ],
   "source": [
    "df_directors['p.name'].isnull().values.any()"
   ]
  },
  {
   "cell_type": "code",
   "execution_count": 191,
   "id": "364b4e6f-5331-414b-84fe-de95529dc00d",
   "metadata": {},
   "outputs": [],
   "source": [
    "change_value_of_name(df_directors)"
   ]
  },
  {
   "cell_type": "code",
   "execution_count": 192,
   "id": "a4e8f1d4-f626-46f5-9c2d-e41309116e7e",
   "metadata": {},
   "outputs": [],
   "source": [
    "df_directors = df_directors.rename(columns={\"p.name\": \"persons_id\", \"m.id\": \"movies_id\"})"
   ]
  },
  {
   "cell_type": "code",
   "execution_count": 193,
   "id": "7fb4b194-4428-4829-9812-bd30432dc39a",
   "metadata": {},
   "outputs": [],
   "source": [
    "df_directors.drop([\"persons_id\"], axis=1, inplace=True)"
   ]
  },
  {
   "cell_type": "code",
   "execution_count": 194,
   "id": "6e7be557-3a56-4ad2-a730-b4d34c68f960",
   "metadata": {},
   "outputs": [],
   "source": [
    "df_directors = df_directors.rename(columns={\"id\":\"persons_id\"})"
   ]
  },
  {
   "cell_type": "code",
   "execution_count": 195,
   "id": "df93f92c-b81d-43fa-826e-66a0bcee09c1",
   "metadata": {},
   "outputs": [
    {
     "data": {
      "text/html": [
       "<div>\n",
       "<style scoped>\n",
       "    .dataframe tbody tr th:only-of-type {\n",
       "        vertical-align: middle;\n",
       "    }\n",
       "\n",
       "    .dataframe tbody tr th {\n",
       "        vertical-align: top;\n",
       "    }\n",
       "\n",
       "    .dataframe thead th {\n",
       "        text-align: right;\n",
       "    }\n",
       "</style>\n",
       "<table border=\"1\" class=\"dataframe\">\n",
       "  <thead>\n",
       "    <tr style=\"text-align: right;\">\n",
       "      <th></th>\n",
       "      <th>movies_id</th>\n",
       "      <th>persons_id</th>\n",
       "    </tr>\n",
       "  </thead>\n",
       "  <tbody>\n",
       "    <tr>\n",
       "      <th>0</th>\n",
       "      <td>80182597</td>\n",
       "      <td>0.0</td>\n",
       "    </tr>\n",
       "    <tr>\n",
       "      <th>1</th>\n",
       "      <td>80182621</td>\n",
       "      <td>5.0</td>\n",
       "    </tr>\n",
       "    <tr>\n",
       "      <th>2</th>\n",
       "      <td>80182621</td>\n",
       "      <td>0.0</td>\n",
       "    </tr>\n",
       "    <tr>\n",
       "      <th>3</th>\n",
       "      <td>80057969</td>\n",
       "      <td>6.0</td>\n",
       "    </tr>\n",
       "    <tr>\n",
       "      <th>4</th>\n",
       "      <td>80060297</td>\n",
       "      <td>16.0</td>\n",
       "    </tr>\n",
       "    <tr>\n",
       "      <th>...</th>\n",
       "      <td>...</td>\n",
       "      <td>...</td>\n",
       "    </tr>\n",
       "    <tr>\n",
       "      <th>4847</th>\n",
       "      <td>80182483</td>\n",
       "      <td>5.0</td>\n",
       "    </tr>\n",
       "    <tr>\n",
       "      <th>4848</th>\n",
       "      <td>80182483</td>\n",
       "      <td>0.0</td>\n",
       "    </tr>\n",
       "    <tr>\n",
       "      <th>4849</th>\n",
       "      <td>80182596</td>\n",
       "      <td>5.0</td>\n",
       "    </tr>\n",
       "    <tr>\n",
       "      <th>4850</th>\n",
       "      <td>80182596</td>\n",
       "      <td>0.0</td>\n",
       "    </tr>\n",
       "    <tr>\n",
       "      <th>4851</th>\n",
       "      <td>80182482</td>\n",
       "      <td>0.0</td>\n",
       "    </tr>\n",
       "  </tbody>\n",
       "</table>\n",
       "<p>4852 rows × 2 columns</p>\n",
       "</div>"
      ],
      "text/plain": [
       "      movies_id  persons_id\n",
       "0      80182597         0.0\n",
       "1      80182621         5.0\n",
       "2      80182621         0.0\n",
       "3      80057969         6.0\n",
       "4      80060297        16.0\n",
       "...         ...         ...\n",
       "4847   80182483         5.0\n",
       "4848   80182483         0.0\n",
       "4849   80182596         5.0\n",
       "4850   80182596         0.0\n",
       "4851   80182482         0.0\n",
       "\n",
       "[4852 rows x 2 columns]"
      ]
     },
     "execution_count": 195,
     "metadata": {},
     "output_type": "execute_result"
    }
   ],
   "source": [
    "df_directors"
   ]
  },
  {
   "cell_type": "code",
   "execution_count": 197,
   "id": "1659ea28-3a7c-4b0a-9572-24a959ecd47f",
   "metadata": {},
   "outputs": [],
   "source": [
    "df_directors.dropna(subset = [\"persons_id\"], inplace=True)"
   ]
  },
  {
   "cell_type": "code",
   "execution_count": 198,
   "id": "f0b4bfe2-3ef0-4c97-8926-8a4d16d431f6",
   "metadata": {},
   "outputs": [],
   "source": [
    "df_directors['persons_id'] = df_directors['persons_id'].astype(int)"
   ]
  },
  {
   "cell_type": "code",
   "execution_count": 199,
   "id": "dd684fbe-7b3f-4ead-8a33-49cbb2f7737b",
   "metadata": {},
   "outputs": [
    {
     "data": {
      "text/html": [
       "<div>\n",
       "<style scoped>\n",
       "    .dataframe tbody tr th:only-of-type {\n",
       "        vertical-align: middle;\n",
       "    }\n",
       "\n",
       "    .dataframe tbody tr th {\n",
       "        vertical-align: top;\n",
       "    }\n",
       "\n",
       "    .dataframe thead th {\n",
       "        text-align: right;\n",
       "    }\n",
       "</style>\n",
       "<table border=\"1\" class=\"dataframe\">\n",
       "  <thead>\n",
       "    <tr style=\"text-align: right;\">\n",
       "      <th></th>\n",
       "      <th>movies_id</th>\n",
       "      <th>persons_id</th>\n",
       "    </tr>\n",
       "  </thead>\n",
       "  <tbody>\n",
       "    <tr>\n",
       "      <th>0</th>\n",
       "      <td>80182597</td>\n",
       "      <td>0</td>\n",
       "    </tr>\n",
       "    <tr>\n",
       "      <th>1</th>\n",
       "      <td>80182621</td>\n",
       "      <td>5</td>\n",
       "    </tr>\n",
       "    <tr>\n",
       "      <th>2</th>\n",
       "      <td>80182621</td>\n",
       "      <td>0</td>\n",
       "    </tr>\n",
       "    <tr>\n",
       "      <th>3</th>\n",
       "      <td>80057969</td>\n",
       "      <td>6</td>\n",
       "    </tr>\n",
       "    <tr>\n",
       "      <th>4</th>\n",
       "      <td>80060297</td>\n",
       "      <td>16</td>\n",
       "    </tr>\n",
       "    <tr>\n",
       "      <th>...</th>\n",
       "      <td>...</td>\n",
       "      <td>...</td>\n",
       "    </tr>\n",
       "    <tr>\n",
       "      <th>4847</th>\n",
       "      <td>80182483</td>\n",
       "      <td>5</td>\n",
       "    </tr>\n",
       "    <tr>\n",
       "      <th>4848</th>\n",
       "      <td>80182483</td>\n",
       "      <td>0</td>\n",
       "    </tr>\n",
       "    <tr>\n",
       "      <th>4849</th>\n",
       "      <td>80182596</td>\n",
       "      <td>5</td>\n",
       "    </tr>\n",
       "    <tr>\n",
       "      <th>4850</th>\n",
       "      <td>80182596</td>\n",
       "      <td>0</td>\n",
       "    </tr>\n",
       "    <tr>\n",
       "      <th>4851</th>\n",
       "      <td>80182482</td>\n",
       "      <td>0</td>\n",
       "    </tr>\n",
       "  </tbody>\n",
       "</table>\n",
       "<p>4258 rows × 2 columns</p>\n",
       "</div>"
      ],
      "text/plain": [
       "      movies_id  persons_id\n",
       "0      80182597           0\n",
       "1      80182621           5\n",
       "2      80182621           0\n",
       "3      80057969           6\n",
       "4      80060297          16\n",
       "...         ...         ...\n",
       "4847   80182483           5\n",
       "4848   80182483           0\n",
       "4849   80182596           5\n",
       "4850   80182596           0\n",
       "4851   80182482           0\n",
       "\n",
       "[4258 rows x 2 columns]"
      ]
     },
     "execution_count": 199,
     "metadata": {},
     "output_type": "execute_result"
    }
   ],
   "source": [
    "df_directors"
   ]
  },
  {
   "cell_type": "code",
   "execution_count": 200,
   "id": "1b56bb64-0d2a-47f6-b37b-ce4bbc98aac9",
   "metadata": {},
   "outputs": [],
   "source": [
    "df_directors = df_directors.reset_index(drop=True)"
   ]
  },
  {
   "cell_type": "code",
   "execution_count": 201,
   "id": "a49af811-5e83-432f-9cf1-e84e2d2b9876",
   "metadata": {},
   "outputs": [
    {
     "data": {
      "text/html": [
       "<div>\n",
       "<style scoped>\n",
       "    .dataframe tbody tr th:only-of-type {\n",
       "        vertical-align: middle;\n",
       "    }\n",
       "\n",
       "    .dataframe tbody tr th {\n",
       "        vertical-align: top;\n",
       "    }\n",
       "\n",
       "    .dataframe thead th {\n",
       "        text-align: right;\n",
       "    }\n",
       "</style>\n",
       "<table border=\"1\" class=\"dataframe\">\n",
       "  <thead>\n",
       "    <tr style=\"text-align: right;\">\n",
       "      <th></th>\n",
       "      <th>movies_id</th>\n",
       "      <th>persons_id</th>\n",
       "    </tr>\n",
       "  </thead>\n",
       "  <tbody>\n",
       "    <tr>\n",
       "      <th>0</th>\n",
       "      <td>80182597</td>\n",
       "      <td>0</td>\n",
       "    </tr>\n",
       "    <tr>\n",
       "      <th>1</th>\n",
       "      <td>80182621</td>\n",
       "      <td>5</td>\n",
       "    </tr>\n",
       "    <tr>\n",
       "      <th>2</th>\n",
       "      <td>80182621</td>\n",
       "      <td>0</td>\n",
       "    </tr>\n",
       "    <tr>\n",
       "      <th>3</th>\n",
       "      <td>80057969</td>\n",
       "      <td>6</td>\n",
       "    </tr>\n",
       "    <tr>\n",
       "      <th>4</th>\n",
       "      <td>80060297</td>\n",
       "      <td>16</td>\n",
       "    </tr>\n",
       "    <tr>\n",
       "      <th>...</th>\n",
       "      <td>...</td>\n",
       "      <td>...</td>\n",
       "    </tr>\n",
       "    <tr>\n",
       "      <th>4253</th>\n",
       "      <td>80182483</td>\n",
       "      <td>5</td>\n",
       "    </tr>\n",
       "    <tr>\n",
       "      <th>4254</th>\n",
       "      <td>80182483</td>\n",
       "      <td>0</td>\n",
       "    </tr>\n",
       "    <tr>\n",
       "      <th>4255</th>\n",
       "      <td>80182596</td>\n",
       "      <td>5</td>\n",
       "    </tr>\n",
       "    <tr>\n",
       "      <th>4256</th>\n",
       "      <td>80182596</td>\n",
       "      <td>0</td>\n",
       "    </tr>\n",
       "    <tr>\n",
       "      <th>4257</th>\n",
       "      <td>80182482</td>\n",
       "      <td>0</td>\n",
       "    </tr>\n",
       "  </tbody>\n",
       "</table>\n",
       "<p>4258 rows × 2 columns</p>\n",
       "</div>"
      ],
      "text/plain": [
       "      movies_id  persons_id\n",
       "0      80182597           0\n",
       "1      80182621           5\n",
       "2      80182621           0\n",
       "3      80057969           6\n",
       "4      80060297          16\n",
       "...         ...         ...\n",
       "4253   80182483           5\n",
       "4254   80182483           0\n",
       "4255   80182596           5\n",
       "4256   80182596           0\n",
       "4257   80182482           0\n",
       "\n",
       "[4258 rows x 2 columns]"
      ]
     },
     "execution_count": 201,
     "metadata": {},
     "output_type": "execute_result"
    }
   ],
   "source": [
    "df_directors"
   ]
  },
  {
   "cell_type": "code",
   "execution_count": 437,
   "id": "898541d9-58fc-4ba6-80f2-34a58e84e730",
   "metadata": {},
   "outputs": [],
   "source": [
    "df_directors.to_csv('Movies_Directors.csv', index = False)"
   ]
  },
  {
   "cell_type": "markdown",
   "id": "0e5e6ea7-3606-4a9f-8c8e-c6064d3e88f2",
   "metadata": {},
   "source": [
    "## Movies et Countries"
   ]
  },
  {
   "cell_type": "code",
   "execution_count": 309,
   "id": "76a1fb20-f77e-4eb1-b923-6f0e1816f2fc",
   "metadata": {},
   "outputs": [],
   "source": [
    "request_movies_director = \"\"\"\n",
    "match (m:Movie)-[r:WHERE]->(c:Country) return m.id, c.name\n",
    "\"\"\"\n",
    "df_c = graph.run(request_movies_director).to_data_frame()"
   ]
  },
  {
   "cell_type": "code",
   "execution_count": 310,
   "id": "a86aa805-5031-400d-a500-010bdf72f017",
   "metadata": {},
   "outputs": [
    {
     "data": {
      "text/html": [
       "<div>\n",
       "<style scoped>\n",
       "    .dataframe tbody tr th:only-of-type {\n",
       "        vertical-align: middle;\n",
       "    }\n",
       "\n",
       "    .dataframe tbody tr th {\n",
       "        vertical-align: top;\n",
       "    }\n",
       "\n",
       "    .dataframe thead th {\n",
       "        text-align: right;\n",
       "    }\n",
       "</style>\n",
       "<table border=\"1\" class=\"dataframe\">\n",
       "  <thead>\n",
       "    <tr style=\"text-align: right;\">\n",
       "      <th></th>\n",
       "      <th>m.id</th>\n",
       "      <th>c.name</th>\n",
       "    </tr>\n",
       "  </thead>\n",
       "  <tbody>\n",
       "    <tr>\n",
       "      <th>0</th>\n",
       "      <td>80156857</td>\n",
       "      <td>France, Belgium</td>\n",
       "    </tr>\n",
       "    <tr>\n",
       "      <th>1</th>\n",
       "      <td>80057969</td>\n",
       "      <td>France, Belgium</td>\n",
       "    </tr>\n",
       "    <tr>\n",
       "      <th>2</th>\n",
       "      <td>80131236</td>\n",
       "      <td>France, Belgium</td>\n",
       "    </tr>\n",
       "    <tr>\n",
       "      <th>3</th>\n",
       "      <td>80044536</td>\n",
       "      <td>France, Belgium</td>\n",
       "    </tr>\n",
       "    <tr>\n",
       "      <th>4</th>\n",
       "      <td>80156763</td>\n",
       "      <td>France, Belgium</td>\n",
       "    </tr>\n",
       "    <tr>\n",
       "      <th>...</th>\n",
       "      <td>...</td>\n",
       "      <td>...</td>\n",
       "    </tr>\n",
       "    <tr>\n",
       "      <th>5753</th>\n",
       "      <td>80162994</td>\n",
       "      <td>Cyprus, Austria, Thailand</td>\n",
       "    </tr>\n",
       "    <tr>\n",
       "      <th>5754</th>\n",
       "      <td>81145628</td>\n",
       "      <td>United States, India, South Korea, China</td>\n",
       "    </tr>\n",
       "    <tr>\n",
       "      <th>5755</th>\n",
       "      <td>70304989</td>\n",
       "      <td>Bulgaria, United States, Spain, Canada</td>\n",
       "    </tr>\n",
       "    <tr>\n",
       "      <th>5756</th>\n",
       "      <td>70304990</td>\n",
       "      <td>United States, United Kingdom, Denmark, Sweden</td>\n",
       "    </tr>\n",
       "    <tr>\n",
       "      <th>5757</th>\n",
       "      <td>70299204</td>\n",
       "      <td>Netherlands, Belgium, United Kingdom, United S...</td>\n",
       "    </tr>\n",
       "  </tbody>\n",
       "</table>\n",
       "<p>5758 rows × 2 columns</p>\n",
       "</div>"
      ],
      "text/plain": [
       "          m.id                                             c.name\n",
       "0     80156857                                    France, Belgium\n",
       "1     80057969                                    France, Belgium\n",
       "2     80131236                                    France, Belgium\n",
       "3     80044536                                    France, Belgium\n",
       "4     80156763                                    France, Belgium\n",
       "...        ...                                                ...\n",
       "5753  80162994                          Cyprus, Austria, Thailand\n",
       "5754  81145628           United States, India, South Korea, China\n",
       "5755  70304989             Bulgaria, United States, Spain, Canada\n",
       "5756  70304990     United States, United Kingdom, Denmark, Sweden\n",
       "5757  70299204  Netherlands, Belgium, United Kingdom, United S...\n",
       "\n",
       "[5758 rows x 2 columns]"
      ]
     },
     "execution_count": 310,
     "metadata": {},
     "output_type": "execute_result"
    }
   ],
   "source": [
    "df_c"
   ]
  },
  {
   "cell_type": "code",
   "execution_count": 311,
   "id": "1f8c33fb-efb6-4362-a04e-27545541692e",
   "metadata": {},
   "outputs": [],
   "source": [
    "def treatment_for_countries(df) :\n",
    "    data = []\n",
    "    for row in range(len(df)):\n",
    "        country = df.loc[row, 'c.name']\n",
    "        movie = df.loc[row, 'm.id']\n",
    "        df.drop(row, inplace=True)\n",
    "        countries = country.split(', ')\n",
    "        for c in countries :\n",
    "            data.append({'movies_id': movie, 'name': c})\n",
    "    return data"
   ]
  },
  {
   "cell_type": "code",
   "execution_count": 312,
   "id": "5151b634-332c-4bf6-a3f3-3848e3182e4f",
   "metadata": {},
   "outputs": [],
   "source": [
    "data = treatment_for_countries(df_c)"
   ]
  },
  {
   "cell_type": "code",
   "execution_count": 313,
   "id": "21d50c55-7823-4d83-8d2f-c798a6a9b17d",
   "metadata": {},
   "outputs": [],
   "source": [
    "df_country = pd.DataFrame(data=data)"
   ]
  },
  {
   "cell_type": "code",
   "execution_count": 314,
   "id": "1fe8dc24-5dac-413a-83da-a573df3cc9c6",
   "metadata": {},
   "outputs": [
    {
     "data": {
      "text/html": [
       "<div>\n",
       "<style scoped>\n",
       "    .dataframe tbody tr th:only-of-type {\n",
       "        vertical-align: middle;\n",
       "    }\n",
       "\n",
       "    .dataframe tbody tr th {\n",
       "        vertical-align: top;\n",
       "    }\n",
       "\n",
       "    .dataframe thead th {\n",
       "        text-align: right;\n",
       "    }\n",
       "</style>\n",
       "<table border=\"1\" class=\"dataframe\">\n",
       "  <thead>\n",
       "    <tr style=\"text-align: right;\">\n",
       "      <th></th>\n",
       "      <th>movies_id</th>\n",
       "      <th>name</th>\n",
       "    </tr>\n",
       "  </thead>\n",
       "  <tbody>\n",
       "    <tr>\n",
       "      <th>0</th>\n",
       "      <td>80156857</td>\n",
       "      <td>France</td>\n",
       "    </tr>\n",
       "    <tr>\n",
       "      <th>1</th>\n",
       "      <td>80156857</td>\n",
       "      <td>Belgium</td>\n",
       "    </tr>\n",
       "    <tr>\n",
       "      <th>2</th>\n",
       "      <td>80057969</td>\n",
       "      <td>France</td>\n",
       "    </tr>\n",
       "    <tr>\n",
       "      <th>3</th>\n",
       "      <td>80057969</td>\n",
       "      <td>Belgium</td>\n",
       "    </tr>\n",
       "    <tr>\n",
       "      <th>4</th>\n",
       "      <td>80131236</td>\n",
       "      <td>France</td>\n",
       "    </tr>\n",
       "    <tr>\n",
       "      <th>...</th>\n",
       "      <td>...</td>\n",
       "      <td>...</td>\n",
       "    </tr>\n",
       "    <tr>\n",
       "      <th>7174</th>\n",
       "      <td>70304990</td>\n",
       "      <td>Sweden</td>\n",
       "    </tr>\n",
       "    <tr>\n",
       "      <th>7175</th>\n",
       "      <td>70299204</td>\n",
       "      <td>Netherlands</td>\n",
       "    </tr>\n",
       "    <tr>\n",
       "      <th>7176</th>\n",
       "      <td>70299204</td>\n",
       "      <td>Belgium</td>\n",
       "    </tr>\n",
       "    <tr>\n",
       "      <th>7177</th>\n",
       "      <td>70299204</td>\n",
       "      <td>United Kingdom</td>\n",
       "    </tr>\n",
       "    <tr>\n",
       "      <th>7178</th>\n",
       "      <td>70299204</td>\n",
       "      <td>United States</td>\n",
       "    </tr>\n",
       "  </tbody>\n",
       "</table>\n",
       "<p>7179 rows × 2 columns</p>\n",
       "</div>"
      ],
      "text/plain": [
       "      movies_id            name\n",
       "0      80156857          France\n",
       "1      80156857         Belgium\n",
       "2      80057969          France\n",
       "3      80057969         Belgium\n",
       "4      80131236          France\n",
       "...         ...             ...\n",
       "7174   70304990          Sweden\n",
       "7175   70299204     Netherlands\n",
       "7176   70299204         Belgium\n",
       "7177   70299204  United Kingdom\n",
       "7178   70299204   United States\n",
       "\n",
       "[7179 rows x 2 columns]"
      ]
     },
     "execution_count": 314,
     "metadata": {},
     "output_type": "execute_result"
    }
   ],
   "source": [
    "df_country"
   ]
  },
  {
   "cell_type": "code",
   "execution_count": 335,
   "id": "2a700d19-ab01-47d7-be4b-1753a3122037",
   "metadata": {},
   "outputs": [],
   "source": [
    "def get_country_id(c_name) :\n",
    "    return df_c2.index[df_c2['name']==c_name].tolist()"
   ]
  },
  {
   "cell_type": "code",
   "execution_count": 336,
   "id": "90939a13-0129-497e-826b-82dadecddb25",
   "metadata": {},
   "outputs": [],
   "source": [
    "df_c2 = pd.DataFrame(data=df_countries)"
   ]
  },
  {
   "cell_type": "code",
   "execution_count": 337,
   "id": "a3d72db2-fc0c-473a-91c5-2ba471829f37",
   "metadata": {},
   "outputs": [
    {
     "data": {
      "text/html": [
       "<div>\n",
       "<style scoped>\n",
       "    .dataframe tbody tr th:only-of-type {\n",
       "        vertical-align: middle;\n",
       "    }\n",
       "\n",
       "    .dataframe tbody tr th {\n",
       "        vertical-align: top;\n",
       "    }\n",
       "\n",
       "    .dataframe thead th {\n",
       "        text-align: right;\n",
       "    }\n",
       "</style>\n",
       "<table border=\"1\" class=\"dataframe\">\n",
       "  <thead>\n",
       "    <tr style=\"text-align: right;\">\n",
       "      <th></th>\n",
       "      <th>name</th>\n",
       "    </tr>\n",
       "  </thead>\n",
       "  <tbody>\n",
       "    <tr>\n",
       "      <th>0</th>\n",
       "      <td>France</td>\n",
       "    </tr>\n",
       "    <tr>\n",
       "      <th>1</th>\n",
       "      <td>Belgium</td>\n",
       "    </tr>\n",
       "    <tr>\n",
       "      <th>2</th>\n",
       "      <td>United States</td>\n",
       "    </tr>\n",
       "    <tr>\n",
       "      <th>3</th>\n",
       "      <td>Uruguay</td>\n",
       "    </tr>\n",
       "    <tr>\n",
       "      <th>4</th>\n",
       "      <td>Thailand</td>\n",
       "    </tr>\n",
       "    <tr>\n",
       "      <th>...</th>\n",
       "      <td>...</td>\n",
       "    </tr>\n",
       "    <tr>\n",
       "      <th>105</th>\n",
       "      <td>Bermuda</td>\n",
       "    </tr>\n",
       "    <tr>\n",
       "      <th>106</th>\n",
       "      <td>Ecuador</td>\n",
       "    </tr>\n",
       "    <tr>\n",
       "      <th>107</th>\n",
       "      <td>Syria</td>\n",
       "    </tr>\n",
       "    <tr>\n",
       "      <th>108</th>\n",
       "      <td>Kuwait</td>\n",
       "    </tr>\n",
       "    <tr>\n",
       "      <th>109</th>\n",
       "      <td>Cyprus</td>\n",
       "    </tr>\n",
       "  </tbody>\n",
       "</table>\n",
       "<p>110 rows × 1 columns</p>\n",
       "</div>"
      ],
      "text/plain": [
       "              name\n",
       "0           France\n",
       "1          Belgium\n",
       "2    United States\n",
       "3          Uruguay\n",
       "4         Thailand\n",
       "..             ...\n",
       "105        Bermuda\n",
       "106        Ecuador\n",
       "107          Syria\n",
       "108         Kuwait\n",
       "109         Cyprus\n",
       "\n",
       "[110 rows x 1 columns]"
      ]
     },
     "execution_count": 337,
     "metadata": {},
     "output_type": "execute_result"
    }
   ],
   "source": [
    "df_c2"
   ]
  },
  {
   "cell_type": "code",
   "execution_count": 338,
   "id": "57420f1c-e7ad-405a-969c-16d79557d63d",
   "metadata": {},
   "outputs": [
    {
     "data": {
      "text/plain": [
       "[0]"
      ]
     },
     "execution_count": 338,
     "metadata": {},
     "output_type": "execute_result"
    }
   ],
   "source": [
    "df_c2.index[df_c2['name']=='France'].tolist()"
   ]
  },
  {
   "cell_type": "code",
   "execution_count": 341,
   "id": "cf04c967-e56a-48f6-875c-c4d2ec0c90e6",
   "metadata": {},
   "outputs": [],
   "source": [
    "def apply_change_country_id(df):\n",
    "    data = []\n",
    "    for row in range(len(df)):\n",
    "        country = df.loc[row, 'name']\n",
    "        movie = df.loc[row, 'movies_id']\n",
    "        try :\n",
    "            data.append({'country_id':get_country_id(country)[0], 'movies_id':movie})\n",
    "        except (IndexError) :\n",
    "            continue\n",
    "    return data"
   ]
  },
  {
   "cell_type": "code",
   "execution_count": 342,
   "id": "18d7b58b-a3f1-470b-841b-59ccfd4f6f84",
   "metadata": {
    "tags": []
   },
   "outputs": [],
   "source": [
    "data = apply_change_country_id(df_country)"
   ]
  },
  {
   "cell_type": "code",
   "execution_count": 343,
   "id": "d298f675-e86e-4ad5-8945-aa0acb6166b7",
   "metadata": {
    "tags": []
   },
   "outputs": [],
   "source": [
    "df_c2 = pd.DataFrame(data=data)"
   ]
  },
  {
   "cell_type": "code",
   "execution_count": 344,
   "id": "161fef85-44f0-4816-b60f-62728d77f845",
   "metadata": {},
   "outputs": [
    {
     "data": {
      "text/html": [
       "<div>\n",
       "<style scoped>\n",
       "    .dataframe tbody tr th:only-of-type {\n",
       "        vertical-align: middle;\n",
       "    }\n",
       "\n",
       "    .dataframe tbody tr th {\n",
       "        vertical-align: top;\n",
       "    }\n",
       "\n",
       "    .dataframe thead th {\n",
       "        text-align: right;\n",
       "    }\n",
       "</style>\n",
       "<table border=\"1\" class=\"dataframe\">\n",
       "  <thead>\n",
       "    <tr style=\"text-align: right;\">\n",
       "      <th></th>\n",
       "      <th>country_id</th>\n",
       "      <th>movies_id</th>\n",
       "    </tr>\n",
       "  </thead>\n",
       "  <tbody>\n",
       "    <tr>\n",
       "      <th>0</th>\n",
       "      <td>0</td>\n",
       "      <td>80156857</td>\n",
       "    </tr>\n",
       "    <tr>\n",
       "      <th>1</th>\n",
       "      <td>1</td>\n",
       "      <td>80156857</td>\n",
       "    </tr>\n",
       "    <tr>\n",
       "      <th>2</th>\n",
       "      <td>0</td>\n",
       "      <td>80057969</td>\n",
       "    </tr>\n",
       "    <tr>\n",
       "      <th>3</th>\n",
       "      <td>1</td>\n",
       "      <td>80057969</td>\n",
       "    </tr>\n",
       "    <tr>\n",
       "      <th>4</th>\n",
       "      <td>0</td>\n",
       "      <td>80131236</td>\n",
       "    </tr>\n",
       "    <tr>\n",
       "      <th>...</th>\n",
       "      <td>...</td>\n",
       "      <td>...</td>\n",
       "    </tr>\n",
       "    <tr>\n",
       "      <th>7171</th>\n",
       "      <td>38</td>\n",
       "      <td>70304990</td>\n",
       "    </tr>\n",
       "    <tr>\n",
       "      <th>7172</th>\n",
       "      <td>15</td>\n",
       "      <td>70299204</td>\n",
       "    </tr>\n",
       "    <tr>\n",
       "      <th>7173</th>\n",
       "      <td>1</td>\n",
       "      <td>70299204</td>\n",
       "    </tr>\n",
       "    <tr>\n",
       "      <th>7174</th>\n",
       "      <td>7</td>\n",
       "      <td>70299204</td>\n",
       "    </tr>\n",
       "    <tr>\n",
       "      <th>7175</th>\n",
       "      <td>2</td>\n",
       "      <td>70299204</td>\n",
       "    </tr>\n",
       "  </tbody>\n",
       "</table>\n",
       "<p>7176 rows × 2 columns</p>\n",
       "</div>"
      ],
      "text/plain": [
       "      country_id  movies_id\n",
       "0              0   80156857\n",
       "1              1   80156857\n",
       "2              0   80057969\n",
       "3              1   80057969\n",
       "4              0   80131236\n",
       "...          ...        ...\n",
       "7171          38   70304990\n",
       "7172          15   70299204\n",
       "7173           1   70299204\n",
       "7174           7   70299204\n",
       "7175           2   70299204\n",
       "\n",
       "[7176 rows x 2 columns]"
      ]
     },
     "execution_count": 344,
     "metadata": {},
     "output_type": "execute_result"
    }
   ],
   "source": [
    "df_c2"
   ]
  },
  {
   "cell_type": "code",
   "execution_count": 345,
   "id": "35409d0a-1eab-4cc7-92c1-5d3004ad7eab",
   "metadata": {},
   "outputs": [],
   "source": [
    "df_c2.dropna(subset = [\"country_id\"], inplace=True)"
   ]
  },
  {
   "cell_type": "code",
   "execution_count": 346,
   "id": "d60eea60-654a-4121-99ef-e761a833c5c5",
   "metadata": {},
   "outputs": [
    {
     "data": {
      "text/html": [
       "<div>\n",
       "<style scoped>\n",
       "    .dataframe tbody tr th:only-of-type {\n",
       "        vertical-align: middle;\n",
       "    }\n",
       "\n",
       "    .dataframe tbody tr th {\n",
       "        vertical-align: top;\n",
       "    }\n",
       "\n",
       "    .dataframe thead th {\n",
       "        text-align: right;\n",
       "    }\n",
       "</style>\n",
       "<table border=\"1\" class=\"dataframe\">\n",
       "  <thead>\n",
       "    <tr style=\"text-align: right;\">\n",
       "      <th></th>\n",
       "      <th>country_id</th>\n",
       "      <th>movies_id</th>\n",
       "    </tr>\n",
       "  </thead>\n",
       "  <tbody>\n",
       "    <tr>\n",
       "      <th>0</th>\n",
       "      <td>0</td>\n",
       "      <td>80156857</td>\n",
       "    </tr>\n",
       "    <tr>\n",
       "      <th>1</th>\n",
       "      <td>1</td>\n",
       "      <td>80156857</td>\n",
       "    </tr>\n",
       "    <tr>\n",
       "      <th>2</th>\n",
       "      <td>0</td>\n",
       "      <td>80057969</td>\n",
       "    </tr>\n",
       "    <tr>\n",
       "      <th>3</th>\n",
       "      <td>1</td>\n",
       "      <td>80057969</td>\n",
       "    </tr>\n",
       "    <tr>\n",
       "      <th>4</th>\n",
       "      <td>0</td>\n",
       "      <td>80131236</td>\n",
       "    </tr>\n",
       "    <tr>\n",
       "      <th>...</th>\n",
       "      <td>...</td>\n",
       "      <td>...</td>\n",
       "    </tr>\n",
       "    <tr>\n",
       "      <th>7171</th>\n",
       "      <td>38</td>\n",
       "      <td>70304990</td>\n",
       "    </tr>\n",
       "    <tr>\n",
       "      <th>7172</th>\n",
       "      <td>15</td>\n",
       "      <td>70299204</td>\n",
       "    </tr>\n",
       "    <tr>\n",
       "      <th>7173</th>\n",
       "      <td>1</td>\n",
       "      <td>70299204</td>\n",
       "    </tr>\n",
       "    <tr>\n",
       "      <th>7174</th>\n",
       "      <td>7</td>\n",
       "      <td>70299204</td>\n",
       "    </tr>\n",
       "    <tr>\n",
       "      <th>7175</th>\n",
       "      <td>2</td>\n",
       "      <td>70299204</td>\n",
       "    </tr>\n",
       "  </tbody>\n",
       "</table>\n",
       "<p>7176 rows × 2 columns</p>\n",
       "</div>"
      ],
      "text/plain": [
       "      country_id  movies_id\n",
       "0              0   80156857\n",
       "1              1   80156857\n",
       "2              0   80057969\n",
       "3              1   80057969\n",
       "4              0   80131236\n",
       "...          ...        ...\n",
       "7171          38   70304990\n",
       "7172          15   70299204\n",
       "7173           1   70299204\n",
       "7174           7   70299204\n",
       "7175           2   70299204\n",
       "\n",
       "[7176 rows x 2 columns]"
      ]
     },
     "execution_count": 346,
     "metadata": {},
     "output_type": "execute_result"
    }
   ],
   "source": [
    "df_c2"
   ]
  },
  {
   "cell_type": "code",
   "execution_count": 347,
   "id": "115a647e-7935-4d3b-8082-f766cb34ea93",
   "metadata": {},
   "outputs": [],
   "source": [
    "df_c2.to_csv('Movies_Countries.csv')"
   ]
  },
  {
   "cell_type": "markdown",
   "id": "ee721f05-b1dd-4e53-b421-87e5df4b30f7",
   "metadata": {
    "tags": []
   },
   "source": [
    "## Movie et Categories"
   ]
  },
  {
   "cell_type": "code",
   "execution_count": 348,
   "id": "8c3557ef-172e-4db1-89f7-a42a7d12400b",
   "metadata": {},
   "outputs": [],
   "source": [
    "categorie_request=\"\"\"\n",
    "MATCH (m:Movie)-[r:IN_CATEGORY]->(c:Category) RETURN m.id, c.name\n",
    "\"\"\"\n",
    "df_cat = graph.run(categorie_request).to_data_frame()"
   ]
  },
  {
   "cell_type": "code",
   "execution_count": 351,
   "id": "6fbe5589-a55f-4010-be57-e3ca882f0f9a",
   "metadata": {},
   "outputs": [
    {
     "data": {
      "text/html": [
       "<div>\n",
       "<style scoped>\n",
       "    .dataframe tbody tr th:only-of-type {\n",
       "        vertical-align: middle;\n",
       "    }\n",
       "\n",
       "    .dataframe tbody tr th {\n",
       "        vertical-align: top;\n",
       "    }\n",
       "\n",
       "    .dataframe thead th {\n",
       "        text-align: right;\n",
       "    }\n",
       "</style>\n",
       "<table border=\"1\" class=\"dataframe\">\n",
       "  <thead>\n",
       "    <tr style=\"text-align: right;\">\n",
       "      <th></th>\n",
       "      <th>m.id</th>\n",
       "      <th>c.name</th>\n",
       "    </tr>\n",
       "  </thead>\n",
       "  <tbody>\n",
       "    <tr>\n",
       "      <th>0</th>\n",
       "      <td>60029178</td>\n",
       "      <td>Children &amp; Family Movies</td>\n",
       "    </tr>\n",
       "    <tr>\n",
       "      <th>1</th>\n",
       "      <td>60022265</td>\n",
       "      <td>Children &amp; Family Movies</td>\n",
       "    </tr>\n",
       "    <tr>\n",
       "      <th>2</th>\n",
       "      <td>60023618</td>\n",
       "      <td>Children &amp; Family Movies</td>\n",
       "    </tr>\n",
       "    <tr>\n",
       "      <th>3</th>\n",
       "      <td>80208635</td>\n",
       "      <td>Children &amp; Family Movies</td>\n",
       "    </tr>\n",
       "    <tr>\n",
       "      <th>4</th>\n",
       "      <td>80182621</td>\n",
       "      <td>Children &amp; Family Movies</td>\n",
       "    </tr>\n",
       "  </tbody>\n",
       "</table>\n",
       "</div>"
      ],
      "text/plain": [
       "       m.id                    c.name\n",
       "0  60029178  Children & Family Movies\n",
       "1  60022265  Children & Family Movies\n",
       "2  60023618  Children & Family Movies\n",
       "3  80208635  Children & Family Movies\n",
       "4  80182621  Children & Family Movies"
      ]
     },
     "execution_count": 351,
     "metadata": {},
     "output_type": "execute_result"
    }
   ],
   "source": [
    "df_cat.head()"
   ]
  },
  {
   "cell_type": "code",
   "execution_count": 352,
   "id": "523b0c20-df1b-4599-ab00-df88cb69ff93",
   "metadata": {},
   "outputs": [
    {
     "data": {
      "text/html": [
       "<div>\n",
       "<style scoped>\n",
       "    .dataframe tbody tr th:only-of-type {\n",
       "        vertical-align: middle;\n",
       "    }\n",
       "\n",
       "    .dataframe tbody tr th {\n",
       "        vertical-align: top;\n",
       "    }\n",
       "\n",
       "    .dataframe thead th {\n",
       "        text-align: right;\n",
       "    }\n",
       "</style>\n",
       "<table border=\"1\" class=\"dataframe\">\n",
       "  <thead>\n",
       "    <tr style=\"text-align: right;\">\n",
       "      <th></th>\n",
       "      <th>c.name</th>\n",
       "    </tr>\n",
       "  </thead>\n",
       "  <tbody>\n",
       "    <tr>\n",
       "      <th>0</th>\n",
       "      <td>Children &amp; Family Movies</td>\n",
       "    </tr>\n",
       "    <tr>\n",
       "      <th>1</th>\n",
       "      <td>Cult Movies</td>\n",
       "    </tr>\n",
       "    <tr>\n",
       "      <th>2</th>\n",
       "      <td>Dramas</td>\n",
       "    </tr>\n",
       "    <tr>\n",
       "      <th>3</th>\n",
       "      <td>Independent Movies</td>\n",
       "    </tr>\n",
       "    <tr>\n",
       "      <th>4</th>\n",
       "      <td>Comedies</td>\n",
       "    </tr>\n",
       "  </tbody>\n",
       "</table>\n",
       "</div>"
      ],
      "text/plain": [
       "                     c.name\n",
       "0  Children & Family Movies\n",
       "1               Cult Movies\n",
       "2                    Dramas\n",
       "3        Independent Movies\n",
       "4                  Comedies"
      ]
     },
     "execution_count": 352,
     "metadata": {},
     "output_type": "execute_result"
    }
   ],
   "source": [
    "df_categories.head()"
   ]
  },
  {
   "cell_type": "code",
   "execution_count": 359,
   "id": "1868dce2-efe1-41f7-b17a-fdca3050b6e5",
   "metadata": {},
   "outputs": [],
   "source": [
    "def get_cat_id(c_name) :\n",
    "    return df_categories.index[df_categories['c.name']==c_name].tolist()"
   ]
  },
  {
   "cell_type": "code",
   "execution_count": 360,
   "id": "cc2d3e81-67c3-4b6d-b288-ae71162c6308",
   "metadata": {},
   "outputs": [],
   "source": [
    "def apply_change_cat_id(df):\n",
    "    data = []\n",
    "    for row in range(len(df)):\n",
    "        cat = df.loc[row, 'c.name']\n",
    "        movie = df.loc[row, 'm.id']\n",
    "        try :\n",
    "            data.append({'category_id':get_cat_id(cat)[0], 'movies_id':movie})\n",
    "        except (IndexError) :\n",
    "            continue\n",
    "    return data"
   ]
  },
  {
   "cell_type": "code",
   "execution_count": 361,
   "id": "52a54493-9507-4ba0-ac55-d692ab0c4170",
   "metadata": {},
   "outputs": [],
   "source": [
    "data = apply_change_cat_id(df_cat)"
   ]
  },
  {
   "cell_type": "code",
   "execution_count": 362,
   "id": "3ccfa625-ab04-4aa1-95fb-242406624a32",
   "metadata": {},
   "outputs": [
    {
     "data": {
      "text/html": [
       "<div>\n",
       "<style scoped>\n",
       "    .dataframe tbody tr th:only-of-type {\n",
       "        vertical-align: middle;\n",
       "    }\n",
       "\n",
       "    .dataframe tbody tr th {\n",
       "        vertical-align: top;\n",
       "    }\n",
       "\n",
       "    .dataframe thead th {\n",
       "        text-align: right;\n",
       "    }\n",
       "</style>\n",
       "<table border=\"1\" class=\"dataframe\">\n",
       "  <thead>\n",
       "    <tr style=\"text-align: right;\">\n",
       "      <th></th>\n",
       "      <th>category_id</th>\n",
       "      <th>movies_id</th>\n",
       "    </tr>\n",
       "  </thead>\n",
       "  <tbody>\n",
       "    <tr>\n",
       "      <th>0</th>\n",
       "      <td>0</td>\n",
       "      <td>60029178</td>\n",
       "    </tr>\n",
       "    <tr>\n",
       "      <th>1</th>\n",
       "      <td>0</td>\n",
       "      <td>60022265</td>\n",
       "    </tr>\n",
       "    <tr>\n",
       "      <th>2</th>\n",
       "      <td>0</td>\n",
       "      <td>60023618</td>\n",
       "    </tr>\n",
       "    <tr>\n",
       "      <th>3</th>\n",
       "      <td>0</td>\n",
       "      <td>80208635</td>\n",
       "    </tr>\n",
       "    <tr>\n",
       "      <th>4</th>\n",
       "      <td>0</td>\n",
       "      <td>80182621</td>\n",
       "    </tr>\n",
       "    <tr>\n",
       "      <th>...</th>\n",
       "      <td>...</td>\n",
       "      <td>...</td>\n",
       "    </tr>\n",
       "    <tr>\n",
       "      <th>13665</th>\n",
       "      <td>41</td>\n",
       "      <td>80073432</td>\n",
       "    </tr>\n",
       "    <tr>\n",
       "      <th>13666</th>\n",
       "      <td>41</td>\n",
       "      <td>70140450</td>\n",
       "    </tr>\n",
       "    <tr>\n",
       "      <th>13667</th>\n",
       "      <td>41</td>\n",
       "      <td>70143825</td>\n",
       "    </tr>\n",
       "    <tr>\n",
       "      <th>13668</th>\n",
       "      <td>41</td>\n",
       "      <td>70177067</td>\n",
       "    </tr>\n",
       "    <tr>\n",
       "      <th>13669</th>\n",
       "      <td>41</td>\n",
       "      <td>70205634</td>\n",
       "    </tr>\n",
       "  </tbody>\n",
       "</table>\n",
       "<p>13670 rows × 2 columns</p>\n",
       "</div>"
      ],
      "text/plain": [
       "       category_id  movies_id\n",
       "0                0   60029178\n",
       "1                0   60022265\n",
       "2                0   60023618\n",
       "3                0   80208635\n",
       "4                0   80182621\n",
       "...            ...        ...\n",
       "13665           41   80073432\n",
       "13666           41   70140450\n",
       "13667           41   70143825\n",
       "13668           41   70177067\n",
       "13669           41   70205634\n",
       "\n",
       "[13670 rows x 2 columns]"
      ]
     },
     "execution_count": 362,
     "metadata": {},
     "output_type": "execute_result"
    }
   ],
   "source": [
    "df_cat = pd.DataFrame(data=data)\n",
    "df_cat"
   ]
  },
  {
   "cell_type": "code",
   "execution_count": 363,
   "id": "2734e705-f911-4a98-adb1-e00fbd3d0b17",
   "metadata": {},
   "outputs": [],
   "source": [
    "df_cat.dropna(subset = [\"category_id\"], inplace=True)"
   ]
  },
  {
   "cell_type": "code",
   "execution_count": 364,
   "id": "200c3d03-1938-4728-b307-82653879a1a2",
   "metadata": {},
   "outputs": [
    {
     "data": {
      "text/html": [
       "<div>\n",
       "<style scoped>\n",
       "    .dataframe tbody tr th:only-of-type {\n",
       "        vertical-align: middle;\n",
       "    }\n",
       "\n",
       "    .dataframe tbody tr th {\n",
       "        vertical-align: top;\n",
       "    }\n",
       "\n",
       "    .dataframe thead th {\n",
       "        text-align: right;\n",
       "    }\n",
       "</style>\n",
       "<table border=\"1\" class=\"dataframe\">\n",
       "  <thead>\n",
       "    <tr style=\"text-align: right;\">\n",
       "      <th></th>\n",
       "      <th>category_id</th>\n",
       "      <th>movies_id</th>\n",
       "    </tr>\n",
       "  </thead>\n",
       "  <tbody>\n",
       "    <tr>\n",
       "      <th>0</th>\n",
       "      <td>0</td>\n",
       "      <td>60029178</td>\n",
       "    </tr>\n",
       "    <tr>\n",
       "      <th>1</th>\n",
       "      <td>0</td>\n",
       "      <td>60022265</td>\n",
       "    </tr>\n",
       "    <tr>\n",
       "      <th>2</th>\n",
       "      <td>0</td>\n",
       "      <td>60023618</td>\n",
       "    </tr>\n",
       "    <tr>\n",
       "      <th>3</th>\n",
       "      <td>0</td>\n",
       "      <td>80208635</td>\n",
       "    </tr>\n",
       "    <tr>\n",
       "      <th>4</th>\n",
       "      <td>0</td>\n",
       "      <td>80182621</td>\n",
       "    </tr>\n",
       "    <tr>\n",
       "      <th>...</th>\n",
       "      <td>...</td>\n",
       "      <td>...</td>\n",
       "    </tr>\n",
       "    <tr>\n",
       "      <th>13665</th>\n",
       "      <td>41</td>\n",
       "      <td>80073432</td>\n",
       "    </tr>\n",
       "    <tr>\n",
       "      <th>13666</th>\n",
       "      <td>41</td>\n",
       "      <td>70140450</td>\n",
       "    </tr>\n",
       "    <tr>\n",
       "      <th>13667</th>\n",
       "      <td>41</td>\n",
       "      <td>70143825</td>\n",
       "    </tr>\n",
       "    <tr>\n",
       "      <th>13668</th>\n",
       "      <td>41</td>\n",
       "      <td>70177067</td>\n",
       "    </tr>\n",
       "    <tr>\n",
       "      <th>13669</th>\n",
       "      <td>41</td>\n",
       "      <td>70205634</td>\n",
       "    </tr>\n",
       "  </tbody>\n",
       "</table>\n",
       "<p>13670 rows × 2 columns</p>\n",
       "</div>"
      ],
      "text/plain": [
       "       category_id  movies_id\n",
       "0                0   60029178\n",
       "1                0   60022265\n",
       "2                0   60023618\n",
       "3                0   80208635\n",
       "4                0   80182621\n",
       "...            ...        ...\n",
       "13665           41   80073432\n",
       "13666           41   70140450\n",
       "13667           41   70143825\n",
       "13668           41   70177067\n",
       "13669           41   70205634\n",
       "\n",
       "[13670 rows x 2 columns]"
      ]
     },
     "execution_count": 364,
     "metadata": {},
     "output_type": "execute_result"
    }
   ],
   "source": [
    "df_cat"
   ]
  },
  {
   "cell_type": "code",
   "execution_count": 365,
   "id": "d2f0ed59-1be3-43ff-9e10-8d1c0a133b91",
   "metadata": {},
   "outputs": [],
   "source": [
    "df_cat.to_csv('Movies_Categories.csv')"
   ]
  },
  {
   "cell_type": "markdown",
   "id": "d58a3d70-0849-459c-8c80-8cbebb6aa4c5",
   "metadata": {},
   "source": [
    "# Remplissage et Création des tables"
   ]
  },
  {
   "cell_type": "code",
   "execution_count": 429,
   "id": "48ef4843-831f-4b00-a4ce-a0d5dbd89992",
   "metadata": {},
   "outputs": [],
   "source": [
    "db,cur = connect()"
   ]
  },
  {
   "cell_type": "markdown",
   "id": "cb840863-ec1d-40ae-b81e-655d7d72f82c",
   "metadata": {},
   "source": [
    "## Insertion des Movies"
   ]
  },
  {
   "cell_type": "code",
   "execution_count": 430,
   "id": "b25d3e50-6336-4177-806d-6ed190cd50a3",
   "metadata": {},
   "outputs": [],
   "source": [
    "sqlfile = open('Movies.sql', 'r')\n",
    "cur.execute(sqlfile.read())"
   ]
  },
  {
   "cell_type": "markdown",
   "id": "e54dfead-9eaa-4bbc-829f-715db5089196",
   "metadata": {},
   "source": [
    "## Insertion des Persons"
   ]
  },
  {
   "cell_type": "code",
   "execution_count": 433,
   "id": "1421af73-50f5-44e4-ba04-8c33d1554ffc",
   "metadata": {},
   "outputs": [],
   "source": [
    "sqlfile = open('Persons.sql', 'r')\n",
    "cur.execute(sqlfile.read())"
   ]
  },
  {
   "cell_type": "markdown",
   "id": "ebb1444d-5b24-4f2f-8278-15de95a9a36e",
   "metadata": {},
   "source": [
    "## Insertion des Countries"
   ]
  },
  {
   "cell_type": "code",
   "execution_count": 432,
   "id": "d4bf7f3d-222c-45f1-ab3b-b8369c92ef0b",
   "metadata": {},
   "outputs": [],
   "source": [
    "sqlfile = open('countries.sql', 'r')\n",
    "cur.execute(sqlfile.read())"
   ]
  },
  {
   "cell_type": "markdown",
   "id": "48ca1d75-5f0c-4524-a1be-10538adedae8",
   "metadata": {},
   "source": [
    "## Insertion des Categories"
   ]
  },
  {
   "cell_type": "code",
   "execution_count": 434,
   "id": "5b685bd5-3b57-42f3-b31d-639d71ee13b5",
   "metadata": {},
   "outputs": [],
   "source": [
    "sqlfile = open('Categories.sql', 'r')\n",
    "cur.execute(sqlfile.read())"
   ]
  },
  {
   "cell_type": "markdown",
   "id": "3b886eb5-53c4-41f4-8cb0-0ab9c8f1e328",
   "metadata": {},
   "source": [
    "## Insertion des tables intermédiaires"
   ]
  },
  {
   "cell_type": "markdown",
   "id": "6350cf68-b937-4264-9a60-13b8f8a0e7b4",
   "metadata": {
    "tags": []
   },
   "source": [
    "### Insertion des Actors et Directors"
   ]
  },
  {
   "cell_type": "code",
   "execution_count": 436,
   "id": "2f2f5486-b2d4-43b8-84b7-194017078589",
   "metadata": {},
   "outputs": [],
   "source": [
    "sqlfile = open('Movies_Actors.sql', 'r')\n",
    "cur.execute(sqlfile.read())"
   ]
  },
  {
   "cell_type": "code",
   "execution_count": 440,
   "id": "c36d138b-39f9-4948-997d-85584e61cbf0",
   "metadata": {},
   "outputs": [],
   "source": [
    "#sqlfile = open('Movies_Directors.sql', 'r')\n",
    "#cur.execute(sqlfile.read())\n",
    "#il faut reverifier que ce fichier ne duplique pas les lignes car la contraine unique renvoi une erreur"
   ]
  },
  {
   "cell_type": "markdown",
   "id": "c7d8f4dd-defa-4384-97ec-c85bf2c72a86",
   "metadata": {},
   "source": [
    "### Insertion des deux autres"
   ]
  },
  {
   "cell_type": "code",
   "execution_count": null,
   "id": "53629ce4-495f-4df0-962f-5eb3fba776f4",
   "metadata": {},
   "outputs": [],
   "source": []
  }
 ],
 "metadata": {
  "kernelspec": {
   "display_name": "Python 3 (ipykernel)",
   "language": "python",
   "name": "python3"
  },
  "language_info": {
   "codemirror_mode": {
    "name": "ipython",
    "version": 3
   },
   "file_extension": ".py",
   "mimetype": "text/x-python",
   "name": "python",
   "nbconvert_exporter": "python",
   "pygments_lexer": "ipython3",
   "version": "3.9.7"
  }
 },
 "nbformat": 4,
 "nbformat_minor": 5
}
